{
 "cells": [
  {
   "cell_type": "markdown",
   "id": "210231c4-ddb1-4e37-bdaf-11f18f5bfa49",
   "metadata": {},
   "source": [
    "# Base DL models"
   ]
  },
  {
   "cell_type": "markdown",
   "id": "1f088a72-5f1a-490e-9c22-b4f24351d48b",
   "metadata": {
    "tags": []
   },
   "source": [
    "## 0. Import library"
   ]
  },
  {
   "cell_type": "code",
   "execution_count": 1,
   "id": "58d63e88-ce7b-4020-80ab-3b102bdc1e04",
   "metadata": {},
   "outputs": [],
   "source": [
    "# Basic\n",
    "import pandas as pd\n",
    "import numpy as np\n",
    "import seaborn as sns\n",
    "import matplotlib.pyplot as plt\n",
    "import time\n",
    "pd.options.display.float_format = \"{:,.4f}\".format\n",
    "import gc\n",
    "\n",
    "import warnings;\n",
    "warnings.filterwarnings('ignore')"
   ]
  },
  {
   "cell_type": "code",
   "execution_count": 2,
   "id": "ff4b7d75-9312-41e4-920f-215d9dc67c7b",
   "metadata": {},
   "outputs": [],
   "source": [
    "# model\n",
    "from sklearn.model_selection import train_test_split\n",
    "from sklearn.feature_extraction.text import CountVectorizer, TfidfVectorizer\n",
    "\n",
    "from sklearn.metrics import classification_report, confusion_matrix, accuracy_score, precision_score, recall_score, f1_score, precision_recall_curve, roc_curve, roc_auc_score\n"
   ]
  },
  {
   "cell_type": "code",
   "execution_count": 3,
   "id": "752607a2-f316-4b95-bf11-4b6df438e87f",
   "metadata": {},
   "outputs": [],
   "source": [
    "# deep learning algo\n",
    "import tensorflow as tf\n",
    "from tensorflow.keras.models import Sequential\n",
    "from tensorflow.keras.layers import Dense, Dropout, Activation\n",
    "from tensorflow.keras import backend\n",
    "from tensorflow.keras.wrappers.scikit_learn import KerasClassifier\n",
    "\n",
    "# Fixing the seed for random number generators\n",
    "tf.random.set_seed(42)\n",
    "\n",
    "# keras tuner\n",
    "from tensorflow import keras\n",
    "from tensorflow.keras import layers"
   ]
  },
  {
   "cell_type": "code",
   "execution_count": 4,
   "id": "4ba074cd-0a22-4182-93f0-1eff14f7aab1",
   "metadata": {
    "scrolled": true,
    "tags": []
   },
   "outputs": [],
   "source": [
    "# keras tuner\n",
    "# !pip install keras-tuner --upgrade\n",
    "from kerastuner.tuners import RandomSearch"
   ]
  },
  {
   "cell_type": "markdown",
   "id": "b2a63eb6-94b1-4679-a8d3-0369b51ad8ec",
   "metadata": {
    "tags": []
   },
   "source": [
    "## 1. Import data"
   ]
  },
  {
   "cell_type": "code",
   "execution_count": 5,
   "id": "23dbd992-17f8-4e06-9be0-db895e760acf",
   "metadata": {},
   "outputs": [],
   "source": [
    "df = pd.read_csv('reviews_cleaned.csv', parse_dates=['timestamp_created'])"
   ]
  },
  {
   "cell_type": "code",
   "execution_count": 6,
   "id": "f2591b46-5f0a-46c5-8334-eba67057fee4",
   "metadata": {},
   "outputs": [
    {
     "data": {
      "text/html": [
       "<div>\n",
       "<style scoped>\n",
       "    .dataframe tbody tr th:only-of-type {\n",
       "        vertical-align: middle;\n",
       "    }\n",
       "\n",
       "    .dataframe tbody tr th {\n",
       "        vertical-align: top;\n",
       "    }\n",
       "\n",
       "    .dataframe thead th {\n",
       "        text-align: right;\n",
       "    }\n",
       "</style>\n",
       "<table border=\"1\" class=\"dataframe\">\n",
       "  <thead>\n",
       "    <tr style=\"text-align: right;\">\n",
       "      <th></th>\n",
       "      <th>recommendationid</th>\n",
       "      <th>review</th>\n",
       "      <th>timestamp_created</th>\n",
       "      <th>voted_up</th>\n",
       "    </tr>\n",
       "  </thead>\n",
       "  <tbody>\n",
       "    <tr>\n",
       "      <th>0</th>\n",
       "      <td>132354840</td>\n",
       "      <td>loe love love game purchased sale would recomm...</td>\n",
       "      <td>2023-02-07</td>\n",
       "      <td>True</td>\n",
       "    </tr>\n",
       "    <tr>\n",
       "      <th>1</th>\n",
       "      <td>132354176</td>\n",
       "      <td>fun</td>\n",
       "      <td>2023-02-07</td>\n",
       "      <td>True</td>\n",
       "    </tr>\n",
       "    <tr>\n",
       "      <th>2</th>\n",
       "      <td>132353890</td>\n",
       "      <td>full gen z game</td>\n",
       "      <td>2023-02-07</td>\n",
       "      <td>False</td>\n",
       "    </tr>\n",
       "    <tr>\n",
       "      <th>3</th>\n",
       "      <td>132353500</td>\n",
       "      <td>good</td>\n",
       "      <td>2023-02-07</td>\n",
       "      <td>True</td>\n",
       "    </tr>\n",
       "    <tr>\n",
       "      <th>4</th>\n",
       "      <td>132352818</td>\n",
       "      <td>captivating like movie</td>\n",
       "      <td>2023-02-07</td>\n",
       "      <td>True</td>\n",
       "    </tr>\n",
       "  </tbody>\n",
       "</table>\n",
       "</div>"
      ],
      "text/plain": [
       "   recommendationid                                             review  \\\n",
       "0         132354840  loe love love game purchased sale would recomm...   \n",
       "1         132354176                                                fun   \n",
       "2         132353890                                    full gen z game   \n",
       "3         132353500                                               good   \n",
       "4         132352818                             captivating like movie   \n",
       "\n",
       "  timestamp_created  voted_up  \n",
       "0        2023-02-07      True  \n",
       "1        2023-02-07      True  \n",
       "2        2023-02-07     False  \n",
       "3        2023-02-07      True  \n",
       "4        2023-02-07      True  "
      ]
     },
     "execution_count": 6,
     "metadata": {},
     "output_type": "execute_result"
    }
   ],
   "source": [
    "df.head()"
   ]
  },
  {
   "cell_type": "code",
   "execution_count": 7,
   "id": "d6be0746-121c-498e-b33e-67c5b711825d",
   "metadata": {},
   "outputs": [
    {
     "data": {
      "text/plain": [
       "(True     304152\n",
       " False    158426\n",
       " Name: voted_up, dtype: int64,\n",
       " True    0.6575\n",
       " False   0.3425\n",
       " Name: voted_up, dtype: float64)"
      ]
     },
     "execution_count": 7,
     "metadata": {},
     "output_type": "execute_result"
    }
   ],
   "source": [
    " df['voted_up'].value_counts(), df['voted_up'].value_counts(normalize = True)"
   ]
  },
  {
   "cell_type": "markdown",
   "id": "29cb2dbd-74e7-4bd0-a343-b2781f4a16e1",
   "metadata": {
    "tags": []
   },
   "source": [
    "## 2. Preprocess"
   ]
  },
  {
   "cell_type": "markdown",
   "id": "f08c4731-6362-4a2b-a02a-2659898083a9",
   "metadata": {},
   "source": [
    "### Exclude 5% of the most recent reviews for holdout set"
   ]
  },
  {
   "cell_type": "code",
   "execution_count": 8,
   "id": "652034ca-54ab-42aa-8100-516d8eee8b8d",
   "metadata": {},
   "outputs": [
    {
     "data": {
      "text/plain": [
       "<Axes: xlabel='timestamp_created', ylabel='Count'>"
      ]
     },
     "execution_count": 8,
     "metadata": {},
     "output_type": "execute_result"
    },
    {
     "data": {
      "image/png": "[encoded data removed]",
      "text/plain": [
       "<Figure size 1500x400 with 1 Axes>"
      ]
     },
     "metadata": {},
     "output_type": "display_data"
    }
   ],
   "source": [
    "plt.figure(figsize=(15,4))\n",
    "sns.histplot(x=df.timestamp_created)"
   ]
  },
  {
   "cell_type": "code",
   "execution_count": 9,
   "id": "11b4f3d3-5da9-4fc3-8734-3b63db797b85",
   "metadata": {},
   "outputs": [
    {
     "data": {
      "text/plain": [
       "Timestamp('2022-12-28 00:00:00')"
      ]
     },
     "execution_count": 9,
     "metadata": {},
     "output_type": "execute_result"
    }
   ],
   "source": [
    "# date of 95th quantile reviews\n",
    "df.timestamp_created.quantile(0.95)"
   ]
  },
  {
   "cell_type": "code",
   "execution_count": 10,
   "id": "dfc67b5c-a3c0-4d2a-9610-d66ab2098ed1",
   "metadata": {},
   "outputs": [
    {
     "name": "stdout",
     "output_type": "stream",
     "text": [
      "CPU times: total: 15.6 ms\n",
      "Wall time: 107 ms\n"
     ]
    },
    {
     "data": {
      "text/plain": [
       "6282           great game might update gpu make work better\n",
       "6283      theyve fixed game pretty well couple bug encou...\n",
       "6284                           cuz really wanna stay housee\n",
       "6285                               finally game story great\n",
       "6286                                               bee knee\n",
       "                                ...                        \n",
       "462573      game wajib untuk budak ea sungkem yang mulia ea\n",
       "462574    lot change fifa afterall finally good feeling ...\n",
       "462575    first time played ultimate team got honest tot...\n",
       "462576    loved game much waiting fifa 22 since august w...\n",
       "462577                                fifa nothing else say\n",
       "Name: review, Length: 439032, dtype: object"
      ]
     },
     "execution_count": 10,
     "metadata": {},
     "output_type": "execute_result"
    }
   ],
   "source": [
    "%%time\n",
    "X = df['review']\n",
    "\n",
    "X_holdout = X[df.timestamp_created >= df.timestamp_created.quantile(0.95)]\n",
    "X = X[df.timestamp_created < df.timestamp_created.quantile(0.95)]\n",
    "\n",
    "X"
   ]
  },
  {
   "cell_type": "code",
   "execution_count": 11,
   "id": "8b4b030a-4072-4004-950e-9b22607636c7",
   "metadata": {},
   "outputs": [],
   "source": [
    "y = df['voted_up'][df.timestamp_created < df.timestamp_created.quantile(0.95)]\n",
    "y_holdout = df['voted_up'][df.timestamp_created >= df.timestamp_created.quantile(0.95)]"
   ]
  },
  {
   "cell_type": "markdown",
   "id": "2833eb94-78c5-44e3-a96d-dcc3f6c8a3ed",
   "metadata": {
    "tags": []
   },
   "source": [
    "### Bag of words"
   ]
  },
  {
   "cell_type": "code",
   "execution_count": 12,
   "id": "b4c17816-349f-4a42-8b7a-fdf13f5f459c",
   "metadata": {},
   "outputs": [],
   "source": [
    "def bow_vectorizer(X_train, X_test, n_features):\n",
    "    vectorizer = CountVectorizer(max_features = n_features, dtype = np.uint8)\n",
    "    X_train = vectorizer.fit_transform(X_train)\n",
    "    X_test = vectorizer.transform(X_test)\n",
    "    \n",
    "    # X_train = pd.DataFrame(X_train.toarray(), columns = vectorizer.get_feature_names_out())\n",
    "    # X_test = pd.DataFrame(X_test.toarray(), columns = vectorizer.get_feature_names_out())\n",
    "    return X_train.toarray(), X_test.toarray()"
   ]
  },
  {
   "cell_type": "markdown",
   "id": "d1be2a84-96b2-4422-af5f-e225273569b9",
   "metadata": {},
   "source": [
    "### TF IDF"
   ]
  },
  {
   "cell_type": "code",
   "execution_count": 13,
   "id": "75efd3e6-6153-422c-a751-e9939fbd8121",
   "metadata": {},
   "outputs": [],
   "source": [
    "def tfidf_vectorizer(X_train, X_test, n_features):\n",
    "    vectorizer = TfidfVectorizer(max_features = n_features)\n",
    "    X_train = vectorizer.fit_transform(X_train)\n",
    "    X_test = vectorizer.transform(X_test)\n",
    "    # X_train = pd.DataFrame(X_train.toarray(), columns = vectorizer.get_feature_names_out())\n",
    "    # X_test = pd.DataFrame(X_test.toarray(), columns = vectorizer.get_feature_names_out())\n",
    "\n",
    "    return X_train.toarray(), X_test.toarray()"
   ]
  },
  {
   "cell_type": "markdown",
   "id": "e5f6dc9b-efa5-4602-9568-c1ee95a5712a",
   "metadata": {},
   "source": [
    "### TF IDF with bigram"
   ]
  },
  {
   "cell_type": "code",
   "execution_count": 14,
   "id": "ff5abc83-0bb3-40c5-8aaa-c5ebb45ecfa9",
   "metadata": {},
   "outputs": [],
   "source": [
    "def tfidf2g_vectorizer(X_train, X_test, n_features):\n",
    "    vectorizer = TfidfVectorizer(max_features = n_features, ngram_range=(1,2))\n",
    "    X_train = vectorizer.fit_transform(X_train)\n",
    "    X_test = vectorizer.transform(X_test)\n",
    "    # X_train = pd.DataFrame(X_train.toarray(), columns = vectorizer.get_feature_names_out())\n",
    "    # X_test = pd.DataFrame(X_test.toarray(), columns = vectorizer.get_feature_names_out())\n",
    "\n",
    "    return X_train.toarray(), X_test.toarray()"
   ]
  },
  {
   "cell_type": "markdown",
   "id": "b1389cbf-5bb1-43b7-b38b-774f6a912afa",
   "metadata": {
    "tags": []
   },
   "source": [
    "## 3. Tuning"
   ]
  },
  {
   "cell_type": "markdown",
   "id": "1292e9d6-44f6-42be-8cea-d67cb43b24d3",
   "metadata": {},
   "source": [
    "### Function for metrics"
   ]
  },
  {
   "cell_type": "code",
   "execution_count": 15,
   "id": "a671d1e8-3623-418a-b573-02cf48074b3c",
   "metadata": {},
   "outputs": [],
   "source": [
    "columns = ['model name', 'data', 'time', \n",
    "           'train_down_Pre',\n",
    "           'train_down_Rec',\n",
    "           'train_down_F1',\n",
    "           'train_up_Pre',\n",
    "           'train_up_Rec',\n",
    "           'train_up_F1',\n",
    "           'train_acc',\n",
    "           'test_down_Pre',\n",
    "           'test_down_Rec',\n",
    "           'test_down_F1',\n",
    "           'test_up_Pre',\n",
    "           'test_up_Rec',\n",
    "           'test_up_F1',\n",
    "           'test_acc']\n",
    "           \n",
    "df_metrics = pd.DataFrame(columns = columns)"
   ]
  },
  {
   "cell_type": "code",
   "execution_count": 16,
   "id": "e2d9969a-2396-43ab-b4c2-867f4755f85a",
   "metadata": {},
   "outputs": [],
   "source": [
    "def reset(df_metrics):\n",
    "    return pd.DataFrame(columns = columns)"
   ]
  },
  {
   "cell_type": "code",
   "execution_count": 17,
   "id": "602baf25-6520-4407-976b-d930485fc096",
   "metadata": {
    "tags": []
   },
   "outputs": [],
   "source": [
    "def dl_performance(model_name, model, X_name, X_train, X_test, y_train, y_test, complete_time = 0, threshold = 0.5): #, X_train, X_test, y_train, y_test):\n",
    "    \n",
    "    #print('Training: ', model_name, '/', X_name)\n",
    "    y_hat_train = np.where(model.predict(X_train) > threshold,1,0)\n",
    "    y_hat_test = np.where(model.predict(X_test) > threshold,1,0)\n",
    "    \n",
    "    \n",
    "    # Train ##############\n",
    "    # accuracy\n",
    "    accuracy_train = accuracy_score(y_train, y_hat_train)\n",
    "    # pre/rec/f1 for True\n",
    "    precision_train_True = precision_score(y_train, y_hat_train, pos_label = True)\n",
    "    recall_train_True = recall_score(y_train, y_hat_train, pos_label = True)\n",
    "    F1_train_True = f1_score(y_train, y_hat_train, pos_label = True)\n",
    "    \n",
    "    # pre/rec/f1 for false\n",
    "    precision_train_False = precision_score(y_train, y_hat_train, pos_label = False)\n",
    "    recall_train_False = recall_score(y_train, y_hat_train, pos_label = False)\n",
    "    F1_train_False = f1_score(y_train, y_hat_train, pos_label = False)\n",
    "    \n",
    "    # Test ##############\n",
    "    # accuracy\n",
    "    accuracy_test = accuracy_score(y_test, y_hat_test)\n",
    "    # pre/rec/f1 for True\n",
    "    precision_test_True = precision_score(y_test, y_hat_test, pos_label = True)\n",
    "    recall_test_True = recall_score(y_test, y_hat_test, pos_label = True)\n",
    "    F1_test_True = f1_score(y_test, y_hat_test, pos_label = True)\n",
    "\n",
    "    # pre/rec/f1 for false\n",
    "    precision_test_False = precision_score(y_test, y_hat_test, pos_label = False)\n",
    "    recall_test_False = recall_score(y_test, y_hat_test, pos_label = False)\n",
    "    F1_test_False = f1_score(y_test, y_hat_test, pos_label = False)\n",
    "\n",
    "    # store result\n",
    "    df_metrics.loc[len(df_metrics.index)] = [\n",
    "        model_name, X_name, complete_time, \n",
    "        precision_train_False, recall_train_False, F1_train_False,\n",
    "        precision_train_True,  recall_train_True,  F1_train_True, accuracy_train,\n",
    "        precision_test_False,  recall_test_False,  F1_test_False, \n",
    "        precision_test_True,   recall_test_True,   F1_test_True, accuracy_test]\n",
    "    \n",
    "    print('Train')\n",
    "    print(classification_report(y_train, y_hat_train))\n",
    "    print('Test')\n",
    "    print(classification_report(y_test, y_hat_test))\n",
    "\n",
    "    fig, [ax1, ax2] = plt.subplots(ncols=2, figsize=(6,3))\n",
    "    labels = ['Negative', 'Positive']\n",
    "\n",
    "    sns.heatmap(confusion_matrix(y_train, y_hat_train), annot=True, ax=ax1, \n",
    "                cbar=False, xticklabels=labels, yticklabels=labels, fmt='.0f')\n",
    "    sns.heatmap(confusion_matrix(y_test, y_hat_test), annot=True, ax=ax2, \n",
    "                cbar=False, xticklabels=labels, yticklabels=labels, fmt='.0f')\n",
    "    ax1.set(ylabel='Actual', xlabel='Predicted') \n",
    "    ax2.set(ylabel='Actual', xlabel='Predicted')\n",
    "    plt.tight_layout()\n",
    "    plt.show()\n",
    "    print('Finished in',complete_time)\n",
    "    print('='*50)\n",
    "    # return df_metrics.loc[len(df_metrics.index)-1]"
   ]
  },
  {
   "cell_type": "code",
   "execution_count": 18,
   "id": "079ed705-c2e5-4732-af46-42da11b539f6",
   "metadata": {},
   "outputs": [],
   "source": [
    "def accuracy_vs_epochs(history, from_epoc=0):\n",
    "    df_history = pd.DataFrame(history.history).iloc[from_epoc:]\n",
    "    plt.figure(figsize = (4,2))\n",
    "    plt.plot(df_history.iloc[:,1])\n",
    "    plt.plot(df_history.iloc[:,3])\n",
    "    plt.xlim(left=-1)\n",
    "    plt.title(str(df_history.columns[1]) +  ' vs epochs')\n",
    "    plt.ylabel(df_history.columns[1])\n",
    "    plt.xlabel('Epoch')\n",
    "    plt.legend(['Train', 'Validation'], loc='lower right')\n",
    "    plt.show()"
   ]
  },
  {
   "cell_type": "code",
   "execution_count": 19,
   "id": "1ca1c834-9897-49fd-bf22-7cf964e23aef",
   "metadata": {},
   "outputs": [],
   "source": [
    "def DL_model_fit(model_name, model, callback, X_name, X_train_vectorized, X_test_vectorized, y_train, y_test):    \n",
    "    print(f'Training:  {model_name} / {X_name}')\n",
    "    start = time.time()\n",
    "    backend.clear_session()\n",
    "\n",
    "    history = model.fit(X_train_vectorized, y_train, \n",
    "                        batch_size=32,\n",
    "                        epochs=10,\n",
    "                        callbacks=[callback],\n",
    "                        verbose=1,\n",
    "                        validation_split = 0.1)\n",
    "    completion_time = round(time.time() - start,2)\n",
    "    accuracy_vs_epochs(history)\n",
    "    dl_performance(model_name, model, X_name, X_train_vectorized, X_test_vectorized, y_train, y_test, completion_time)"
   ]
  },
  {
   "cell_type": "code",
   "execution_count": 20,
   "id": "50ae5ef6-2431-4ef3-a58d-37028890f6b0",
   "metadata": {},
   "outputs": [],
   "source": [
    "# function to create DL model\n",
    "def make_DL_model(neuron_list, dropout_list, input_dim, metric=tf.keras.metrics.AUC()):\n",
    "    \n",
    "    model = Sequential()\n",
    "    model.add(Dense(neuron_list[0], activation='relu',kernel_initializer='he_uniform',input_dim = input_dim))\n",
    "    model.add(Dropout(dropout_list[0]))\n",
    "    \n",
    "    for neuron, dropout in zip(neuron_list[1:], dropout_list[1:]):\n",
    "        model.add(Dense(neuron,activation='relu',kernel_initializer='he_uniform'))\n",
    "        model.add(Dropout(dropout))\n",
    "   \n",
    "    # Output layer\n",
    "    model.add(Dense(1, activation = 'sigmoid'))\n",
    "    model.compile(loss='binary_crossentropy',optimizer=tf.keras.optimizers.Adam(0.001), metrics=metric)\n",
    "    return model"
   ]
  },
  {
   "cell_type": "code",
   "execution_count": 25,
   "id": "e732c88b-cbab-43c7-87bc-905ad49e974b",
   "metadata": {},
   "outputs": [],
   "source": [
    "# function to create DL model\n",
    "def make_DL_model_tune(neuron_list, dropout_list, activator_list, input_dim, metric=tf.keras.metrics.AUC()):\n",
    "    \n",
    "    model = Sequential()\n",
    "    model.add(Dense(neuron_list[0], activation=activator_list[0],kernel_initializer='he_uniform',input_dim = input_dim))\n",
    "    model.add(Dropout(dropout_list[0]))\n",
    "    \n",
    "    for neuron, dropout, activator in zip(neuron_list[1:], dropout_list[1:], activator_list[1:]):\n",
    "        model.add(Dense(neuron,activation=activator,kernel_initializer='he_uniform'))\n",
    "        model.add(Dropout(dropout))\n",
    "   \n",
    "    # Output layer\n",
    "    model.add(Dense(1, activation = 'sigmoid'))\n",
    "    model.compile(loss='binary_crossentropy',optimizer=tf.keras.optimizers.Adam(0.001), metrics=metric)\n",
    "    return model"
   ]
  },
  {
   "cell_type": "code",
   "execution_count": 30,
   "id": "f8a1eb14-40ca-44f6-988f-b05cc37c1e86",
   "metadata": {},
   "outputs": [],
   "source": [
    "# function to plot precision/recall curve\n",
    "def pre_rec_curve(model, X_train_vectorized, threshold=0.5):\n",
    "    y_proba= model.predict(X_train_vectorized)\n",
    "    precisions, recalls, thresholds = precision_recall_curve(y_train, y_proba, pos_label=1)\n",
    "    thresholds = np.insert(thresholds, 0, 0)\n",
    "    F1_score = 2*precisions*recalls/(precisions+recalls)\n",
    "\n",
    "    # Plot values of precisions, recalls, and thresholds\n",
    "    plt.figure(figsize=(10,7))\n",
    "    plt.plot(thresholds, precisions, 'b--', label='precision')\n",
    "    plt.plot(thresholds, recalls, 'g--', label = 'recall')\n",
    "    plt.plot(thresholds, F1_score, 'r--', label = 'f1 score')\n",
    "\n",
    "    plt.xlabel('Threshold')\n",
    "    plt.legend(loc='upper left')\n",
    "    # plt.ylim([0.6,1])\n",
    "    plt.axvline(threshold)\n",
    "    plt.show()"
   ]
  },
  {
   "cell_type": "markdown",
   "id": "8a471f05-eab9-42a9-a3ed-faec80b45c7a",
   "metadata": {},
   "source": [
    "### Data"
   ]
  },
  {
   "cell_type": "code",
   "execution_count": 21,
   "id": "0ab8a05a-b5b0-4e80-865b-bdb41f6a3139",
   "metadata": {},
   "outputs": [],
   "source": [
    "X_train, X_test, y_train, y_test = train_test_split(X, y, stratify = y, test_size=0.2, random_state=14)\n",
    "\n",
    "# X_train_bow_2000    , X_test_bow_2000     = bow_vectorizer(X_train, X_test, 2000)\n",
    "# X_train_tfidf_2000  , X_test_tfidf_2000   = tfidf_vectorizer(X_train, X_test, 2000)\n",
    "X_train_tfidf2g_2000, X_test_tfidf2g_2000 = tfidf2g_vectorizer(X_train, X_test, 2000)"
   ]
  },
  {
   "cell_type": "code",
   "execution_count": 22,
   "id": "fc828a73-0195-47e1-9690-9e17e18342ab",
   "metadata": {},
   "outputs": [],
   "source": [
    "callback = tf.keras.callbacks.EarlyStopping(\n",
    "    monitor='val_loss',\n",
    "    min_delta=0,\n",
    "    patience=5,\n",
    "    verbose=0,\n",
    "    mode='auto',\n",
    "    baseline=None,\n",
    "    restore_best_weights=True\n",
    ")"
   ]
  },
  {
   "cell_type": "markdown",
   "id": "a5ad8ac9-61bc-4f7d-beea-560ed9d634c5",
   "metadata": {},
   "source": [
    "### Baseline model"
   ]
  },
  {
   "cell_type": "code",
   "execution_count": 29,
   "id": "716177f0-2ca7-45e8-a596-b558b849e6b5",
   "metadata": {},
   "outputs": [],
   "source": [
    "DL_based = tf.keras.models.load_model('DL_4layer_model_tfidf2g')"
   ]
  },
  {
   "cell_type": "code",
   "execution_count": 32,
   "id": "1b2bb9c8-9016-4523-982d-2b7ee9804083",
   "metadata": {},
   "outputs": [
    {
     "name": "stdout",
     "output_type": "stream",
     "text": [
      "10976/10976 [==============================] - 38s 3ms/step\n",
      "2744/2744 [==============================] - 6s 2ms/step\n",
      "Train\n",
      "              precision    recall  f1-score   support\n",
      "\n",
      "       False       0.85      0.84      0.85    120213\n",
      "        True       0.92      0.92      0.92    231012\n",
      "\n",
      "    accuracy                           0.89    351225\n",
      "   macro avg       0.88      0.88      0.88    351225\n",
      "weighted avg       0.89      0.89      0.89    351225\n",
      "\n",
      "Test\n",
      "              precision    recall  f1-score   support\n",
      "\n",
      "       False       0.81      0.80      0.81     30053\n",
      "        True       0.90      0.90      0.90     57754\n",
      "\n",
      "    accuracy                           0.87     87807\n",
      "   macro avg       0.85      0.85      0.85     87807\n",
      "weighted avg       0.87      0.87      0.87     87807\n",
      "\n"
     ]
    },
    {
     "data": {
      "image/png": "[encoded data removed]",
      "text/plain": [
       "<Figure size 600x300 with 2 Axes>"
      ]
     },
     "metadata": {},
     "output_type": "display_data"
    },
    {
     "name": "stdout",
     "output_type": "stream",
     "text": [
      "Finished in 0\n",
      "==================================================\n"
     ]
    },
    {
     "data": {
      "text/plain": [
       "model name            DL_based\n",
       "data              tfidf2g_2000\n",
       "time                         0\n",
       "train_down_Pre          0.8494\n",
       "train_down_Rec          0.8409\n",
       "train_down_F1           0.8451\n",
       "train_up_Pre            0.9176\n",
       "train_up_Rec            0.9224\n",
       "train_up_F1             0.9200\n",
       "train_acc               0.8945\n",
       "test_down_Pre           0.8109\n",
       "test_down_Rec           0.8027\n",
       "test_down_F1            0.8068\n",
       "test_up_Pre             0.8979\n",
       "test_up_Rec             0.9026\n",
       "test_up_F1              0.9002\n",
       "test_acc                0.8684\n",
       "Name: 0, dtype: object"
      ]
     },
     "execution_count": 32,
     "metadata": {},
     "output_type": "execute_result"
    }
   ],
   "source": [
    "dl_performance('DL_based', DL_based, 'tfidf2g_2000', X_train_tfidf2g_2000, X_test_tfidf2g_2000, y_train, y_test, threshold = 0.6)"
   ]
  },
  {
   "cell_type": "markdown",
   "id": "7afc1685-5148-4308-bc7b-16bb57e9769c",
   "metadata": {},
   "source": [
    "### Random search"
   ]
  },
  {
   "cell_type": "code",
   "execution_count": 46,
   "id": "d4b6b42a-04e1-4215-93a9-178f9c707123",
   "metadata": {},
   "outputs": [],
   "source": [
    "def build_model(h):\n",
    "    model = keras.Sequential()\n",
    "    # Number of layer: min - max\n",
    "    for i in range(h.Int('num_layers', 2, 10)):\n",
    "        # Number of neuron in each layer: min - max - step\n",
    "        model.add(layers.Dense(\n",
    "            #units=h.Int('units_' + str(i), min_value=32, max_value=512, step=32),\n",
    "            units=h.Choice('units_' + str(i), [512, 256, 128, 64, 32]),\n",
    "            # Activation function for each layer\n",
    "            activation= h.Choice('act_' + str(i), ['relu','sigmoid'])))\n",
    "        # Tune with dropout or not\n",
    "        model.add(Dropout(h.Choice('dropout_'+ str(i), [0.0, 0.1,0.25,0.5])))\n",
    "    # output layer\n",
    "    model.add(layers.Dense(1, activation='sigmoid'))\n",
    "    # compiler\n",
    "    model.compile(\n",
    "        # Adjust learning rate\n",
    "        optimizer=keras.optimizers.Adam(h.Choice('learning_rate', [0.001, 0.01])),\n",
    "        loss='binary_crossentropy',\n",
    "        metrics=['accuracy'])\n",
    "    return model"
   ]
  },
  {
   "cell_type": "code",
   "execution_count": 47,
   "id": "92a402a1-9bbc-4654-a177-3bcf0b451596",
   "metadata": {},
   "outputs": [],
   "source": [
    "X_train_cv, _ , y_train_cv, __ = train_test_split(X_train_tfidf2g_2000, y_train, train_size=0.1, stratify = y_train,\n",
    "                                                  random_state=14)"
   ]
  },
  {
   "cell_type": "code",
   "execution_count": 48,
   "id": "180bdfed-bb4b-4ab9-83d6-202722b07165",
   "metadata": {},
   "outputs": [],
   "source": [
    "tuner = RandomSearch(\n",
    "    build_model,\n",
    "    objective='val_accuracy',\n",
    "    max_trials=10,\n",
    "    executions_per_trial=7,\n",
    "    project_name='Job',\n",
    "    overwrite=True)"
   ]
  },
  {
   "cell_type": "code",
   "execution_count": 49,
   "id": "4c70995c-a483-4ad1-b6d0-8b8dff0aad74",
   "metadata": {
    "scrolled": true,
    "tags": []
   },
   "outputs": [
    {
     "name": "stdout",
     "output_type": "stream",
     "text": [
      "Trial 10 Complete [00h 03m 25s]\n",
      "val_accuracy: 0.8284331730433873\n",
      "\n",
      "Best val_accuracy So Far: 0.8573868444987706\n",
      "Total elapsed time: 00h 38m 32s\n",
      "INFO:tensorflow:Oracle triggered exit\n",
      "Tuning completed in:  2312.38 s\n"
     ]
    }
   ],
   "source": [
    "# Tuning completed in:  2312.38 s\n",
    "start = time.time()\n",
    "tuner.search(X_train_cv, y_train_cv, epochs=7, validation_split = 0.1)\n",
    "print('Tuning completed in: ', round(time.time()-start,2),'s')"
   ]
  },
  {
   "cell_type": "code",
   "execution_count": 50,
   "id": "d0c5ad3f-7896-4847-8cd0-a4e66c645339",
   "metadata": {
    "scrolled": true,
    "tags": []
   },
   "outputs": [
    {
     "name": "stdout",
     "output_type": "stream",
     "text": [
      "Results summary\n",
      "Results in .\\Job\n",
      "Showing 10 best trials\n",
      "<keras_tuner.engine.objective.Objective object at 0x000001C18016E1F0>\n",
      "Trial summary\n",
      "Hyperparameters:\n",
      "num_layers: 5\n",
      "units_0: 128\n",
      "act_0: relu\n",
      "dropout_0: 0.25\n",
      "units_1: 256\n",
      "act_1: sigmoid\n",
      "dropout_1: 0.5\n",
      "learning_rate: 0.001\n",
      "units_2: 32\n",
      "act_2: sigmoid\n",
      "dropout_2: 0.25\n",
      "units_3: 64\n",
      "act_3: sigmoid\n",
      "dropout_3: 0.1\n",
      "units_4: 128\n",
      "act_4: sigmoid\n",
      "dropout_4: 0.0\n",
      "units_5: 32\n",
      "act_5: sigmoid\n",
      "dropout_5: 0.5\n",
      "units_6: 64\n",
      "act_6: sigmoid\n",
      "dropout_6: 0.5\n",
      "Score: 0.8573868444987706\n",
      "Trial summary\n",
      "Hyperparameters:\n",
      "num_layers: 5\n",
      "units_0: 128\n",
      "act_0: relu\n",
      "dropout_0: 0.25\n",
      "units_1: 256\n",
      "act_1: sigmoid\n",
      "dropout_1: 0.25\n",
      "learning_rate: 0.001\n",
      "units_2: 512\n",
      "act_2: sigmoid\n",
      "dropout_2: 0.0\n",
      "units_3: 32\n",
      "act_3: sigmoid\n",
      "dropout_3: 0.5\n",
      "units_4: 32\n",
      "act_4: relu\n",
      "dropout_4: 0.1\n",
      "units_5: 256\n",
      "act_5: sigmoid\n",
      "dropout_5: 0.25\n",
      "units_6: 32\n",
      "act_6: relu\n",
      "dropout_6: 0.1\n",
      "Score: 0.8568175435066223\n",
      "Trial summary\n",
      "Hyperparameters:\n",
      "num_layers: 7\n",
      "units_0: 32\n",
      "act_0: relu\n",
      "dropout_0: 0.25\n",
      "units_1: 128\n",
      "act_1: relu\n",
      "dropout_1: 0.25\n",
      "learning_rate: 0.001\n",
      "units_2: 512\n",
      "act_2: relu\n",
      "dropout_2: 0.1\n",
      "units_3: 32\n",
      "act_3: relu\n",
      "dropout_3: 0.0\n",
      "units_4: 32\n",
      "act_4: sigmoid\n",
      "dropout_4: 0.0\n",
      "units_5: 512\n",
      "act_5: sigmoid\n",
      "dropout_5: 0.0\n",
      "units_6: 512\n",
      "act_6: relu\n",
      "dropout_6: 0.0\n",
      "Score: 0.8558009096554348\n",
      "Trial summary\n",
      "Hyperparameters:\n",
      "num_layers: 5\n",
      "units_0: 256\n",
      "act_0: relu\n",
      "dropout_0: 0.5\n",
      "units_1: 32\n",
      "act_1: sigmoid\n",
      "dropout_1: 0.0\n",
      "learning_rate: 0.01\n",
      "units_2: 32\n",
      "act_2: relu\n",
      "dropout_2: 0.5\n",
      "units_3: 64\n",
      "act_3: sigmoid\n",
      "dropout_3: 0.5\n",
      "units_4: 512\n",
      "act_4: sigmoid\n",
      "dropout_4: 0.0\n",
      "units_5: 256\n",
      "act_5: sigmoid\n",
      "dropout_5: 0.1\n",
      "units_6: 64\n",
      "act_6: sigmoid\n",
      "dropout_6: 0.0\n",
      "Score: 0.8535643134798322\n",
      "Trial summary\n",
      "Hyperparameters:\n",
      "num_layers: 6\n",
      "units_0: 64\n",
      "act_0: relu\n",
      "dropout_0: 0.0\n",
      "units_1: 128\n",
      "act_1: sigmoid\n",
      "dropout_1: 0.1\n",
      "learning_rate: 0.01\n",
      "units_2: 64\n",
      "act_2: sigmoid\n",
      "dropout_2: 0.1\n",
      "units_3: 512\n",
      "act_3: sigmoid\n",
      "dropout_3: 0.0\n",
      "units_4: 512\n",
      "act_4: relu\n",
      "dropout_4: 0.0\n",
      "units_5: 512\n",
      "act_5: relu\n",
      "dropout_5: 0.0\n",
      "Score: 0.851775050163269\n",
      "Trial summary\n",
      "Hyperparameters:\n",
      "num_layers: 4\n",
      "units_0: 64\n",
      "act_0: relu\n",
      "dropout_0: 0.1\n",
      "units_1: 64\n",
      "act_1: relu\n",
      "dropout_1: 0.5\n",
      "learning_rate: 0.01\n",
      "units_2: 512\n",
      "act_2: relu\n",
      "dropout_2: 0.0\n",
      "units_3: 512\n",
      "act_3: relu\n",
      "dropout_3: 0.0\n",
      "Score: 0.8516123805727277\n",
      "Trial summary\n",
      "Hyperparameters:\n",
      "num_layers: 3\n",
      "units_0: 128\n",
      "act_0: relu\n",
      "dropout_0: 0.25\n",
      "units_1: 512\n",
      "act_1: relu\n",
      "dropout_1: 0.1\n",
      "learning_rate: 0.01\n",
      "units_2: 32\n",
      "act_2: sigmoid\n",
      "dropout_2: 0.25\n",
      "units_3: 512\n",
      "act_3: sigmoid\n",
      "dropout_3: 0.5\n",
      "units_4: 512\n",
      "act_4: relu\n",
      "dropout_4: 0.5\n",
      "units_5: 32\n",
      "act_5: relu\n",
      "dropout_5: 0.1\n",
      "units_6: 32\n",
      "act_6: sigmoid\n",
      "dropout_6: 0.1\n",
      "Score: 0.8501077720097133\n",
      "Trial summary\n",
      "Hyperparameters:\n",
      "num_layers: 2\n",
      "units_0: 256\n",
      "act_0: sigmoid\n",
      "dropout_0: 0.5\n",
      "units_1: 64\n",
      "act_1: relu\n",
      "dropout_1: 0.0\n",
      "learning_rate: 0.01\n",
      "units_2: 128\n",
      "act_2: sigmoid\n",
      "dropout_2: 0.5\n",
      "units_3: 256\n",
      "act_3: relu\n",
      "dropout_3: 0.0\n",
      "units_4: 512\n",
      "act_4: relu\n",
      "dropout_4: 0.0\n",
      "units_5: 64\n",
      "act_5: relu\n",
      "dropout_5: 0.5\n",
      "units_6: 512\n",
      "act_6: relu\n",
      "dropout_6: 0.5\n",
      "Score: 0.8284331730433873\n",
      "Trial summary\n",
      "Hyperparameters:\n",
      "num_layers: 7\n",
      "units_0: 64\n",
      "act_0: sigmoid\n",
      "dropout_0: 0.1\n",
      "units_1: 512\n",
      "act_1: relu\n",
      "dropout_1: 0.1\n",
      "learning_rate: 0.001\n",
      "units_2: 32\n",
      "act_2: relu\n",
      "dropout_2: 0.5\n",
      "units_3: 256\n",
      "act_3: sigmoid\n",
      "dropout_3: 0.25\n",
      "units_4: 32\n",
      "act_4: sigmoid\n",
      "dropout_4: 0.5\n",
      "units_5: 256\n",
      "act_5: relu\n",
      "dropout_5: 0.1\n",
      "units_6: 512\n",
      "act_6: sigmoid\n",
      "dropout_6: 0.5\n",
      "Score: 0.790817780154092\n",
      "Trial summary\n",
      "Hyperparameters:\n",
      "num_layers: 7\n",
      "units_0: 128\n",
      "act_0: sigmoid\n",
      "dropout_0: 0.1\n",
      "units_1: 256\n",
      "act_1: relu\n",
      "dropout_1: 0.1\n",
      "learning_rate: 0.01\n",
      "units_2: 128\n",
      "act_2: relu\n",
      "dropout_2: 0.25\n",
      "units_3: 512\n",
      "act_3: relu\n",
      "dropout_3: 0.0\n",
      "units_4: 32\n",
      "act_4: relu\n",
      "dropout_4: 0.5\n",
      "units_5: 512\n",
      "act_5: sigmoid\n",
      "dropout_5: 0.5\n",
      "units_6: 128\n",
      "act_6: relu\n",
      "dropout_6: 0.0\n",
      "Score: 0.7286405648503985\n"
     ]
    }
   ],
   "source": [
    "tuner.results_summary()\n"
   ]
  },
  {
   "cell_type": "code",
   "execution_count": null,
   "id": "794dbff9-2e24-4e0a-a55a-827b53040545",
   "metadata": {},
   "outputs": [],
   "source": [
    "# Hyperparameters:\n",
    "# num_layers: 5\n",
    "# units_0: 128\n",
    "# act_0: relu\n",
    "# dropout_0: 0.25\n",
    "# units_1: 256\n",
    "# act_1: sigmoid\n",
    "# dropout_1: 0.5\n",
    "# learning_rate: 0.001\n",
    "# units_2: 32\n",
    "# act_2: sigmoid\n",
    "# dropout_2: 0.25\n",
    "# units_3: 64\n",
    "# act_3: sigmoid\n",
    "# dropout_3: 0.1\n",
    "# units_4: 128\n",
    "# act_4: sigmoid\n",
    "# dropout_4: 0.0\n",
    "# units_5: 32\n",
    "# act_5: sigmoid\n",
    "# dropout_5: 0.5\n",
    "# units_6: 64\n",
    "# act_6: sigmoid\n",
    "# dropout_6: 0.5\n",
    "# Score: 0.8573868444987706\n",
    "\n",
    "# Hyperparameters:\n",
    "# num_layers: 5\n",
    "# units_0: 128\n",
    "# act_0: relu\n",
    "# dropout_0: 0.25\n",
    "# units_1: 256\n",
    "# act_1: sigmoid\n",
    "# dropout_1: 0.25\n",
    "# learning_rate: 0.001\n",
    "# units_2: 512\n",
    "# act_2: sigmoid\n",
    "# dropout_2: 0.0\n",
    "# units_3: 32\n",
    "# act_3: sigmoid\n",
    "# dropout_3: 0.5\n",
    "# units_4: 32\n",
    "# act_4: relu\n",
    "# dropout_4: 0.1\n",
    "# units_5: 256\n",
    "# act_5: sigmoid\n",
    "# dropout_5: 0.25\n",
    "# units_6: 32\n",
    "# act_6: relu\n",
    "# dropout_6: 0.1\n",
    "# Score: 0.8568175435066223\n",
    "\n",
    "# Hyperparameters:\n",
    "# num_layers: 7\n",
    "# units_0: 32\n",
    "# act_0: relu\n",
    "# dropout_0: 0.25\n",
    "# units_1: 128\n",
    "# act_1: relu\n",
    "# dropout_1: 0.25\n",
    "# learning_rate: 0.001\n",
    "# units_2: 512\n",
    "# act_2: relu\n",
    "# dropout_2: 0.1\n",
    "# units_3: 32\n",
    "# act_3: relu\n",
    "# dropout_3: 0.0\n",
    "# units_4: 32\n",
    "# act_4: sigmoid\n",
    "# dropout_4: 0.0\n",
    "# units_5: 512\n",
    "# act_5: sigmoid\n",
    "# dropout_5: 0.0\n",
    "# units_6: 512\n",
    "# act_6: relu\n",
    "# dropout_6: 0.0\n",
    "# Score: 0.8558009096554348\n",
    "\n",
    "# Hyperparameters:\n",
    "# num_layers: 5\n",
    "# units_0: 256\n",
    "# act_0: relu\n",
    "# dropout_0: 0.5\n",
    "# units_1: 32\n",
    "# act_1: sigmoid\n",
    "# dropout_1: 0.0\n",
    "# learning_rate: 0.01\n",
    "# units_2: 32\n",
    "# act_2: relu\n",
    "# dropout_2: 0.5\n",
    "# units_3: 64\n",
    "# act_3: sigmoid\n",
    "# dropout_3: 0.5\n",
    "# units_4: 512\n",
    "# act_4: sigmoid\n",
    "# dropout_4: 0.0\n",
    "# units_5: 256\n",
    "# act_5: sigmoid\n",
    "# dropout_5: 0.1\n",
    "# units_6: 64\n",
    "# act_6: sigmoid\n",
    "# dropout_6: 0.0\n",
    "# Score: 0.8535643134798322"
   ]
  },
  {
   "cell_type": "markdown",
   "id": "b9ae19d1-5666-46b4-b949-eda39d8c7934",
   "metadata": {},
   "source": [
    "### Random search model 1"
   ]
  },
  {
   "cell_type": "raw",
   "id": "58ed082b-1412-43a2-ad52-0cc70a78bf9c",
   "metadata": {},
   "source": [
    "Hyperparameters:\n",
    "num_layers: 5\n",
    "units_0: 128\n",
    "act_0: relu\n",
    "dropout_0: 0.25\n",
    "units_1: 256\n",
    "act_1: sigmoid\n",
    "dropout_1: 0.5\n",
    "learning_rate: 0.001\n",
    "units_2: 32\n",
    "act_2: sigmoid\n",
    "dropout_2: 0.25\n",
    "units_3: 64\n",
    "act_3: sigmoid\n",
    "dropout_3: 0.1\n",
    "units_4: 128\n",
    "act_4: sigmoid\n",
    "dropout_4: 0.0"
   ]
  },
  {
   "cell_type": "code",
   "execution_count": 27,
   "id": "b87fd96a-a847-4acd-be91-e951b5cfe867",
   "metadata": {},
   "outputs": [],
   "source": [
    "DL_tune1 = make_DL_model_tune(\n",
    "    [128,256,32,64,128], \n",
    "    [.25, .5, .25, .1, 0], \n",
    "    ['relu', 'sigmoid', 'sigmoid', 'sigmoid', 'sigmoid'],\n",
    "    2000, metric='accuracy')"
   ]
  },
  {
   "cell_type": "code",
   "execution_count": 28,
   "id": "f9d44992-69ae-4ca9-a74b-143498c37f51",
   "metadata": {},
   "outputs": [
    {
     "name": "stdout",
     "output_type": "stream",
     "text": [
      "Training:  DL_tune1 / tfidf2g_2000\n",
      "Epoch 1/10\n",
      "9879/9879 [==============================] - 31s 3ms/step - loss: 0.3474 - accuracy: 0.8522 - val_loss: 0.3259 - val_accuracy: 0.8618\n",
      "Epoch 2/10\n",
      "9879/9879 [==============================] - 33s 3ms/step - loss: 0.3208 - accuracy: 0.8648 - val_loss: 0.3160 - val_accuracy: 0.8666\n",
      "Epoch 3/10\n",
      "9879/9879 [==============================] - 28s 3ms/step - loss: 0.3072 - accuracy: 0.8723 - val_loss: 0.3125 - val_accuracy: 0.8702\n",
      "Epoch 4/10\n",
      "9879/9879 [==============================] - 29s 3ms/step - loss: 0.2937 - accuracy: 0.8795 - val_loss: 0.3117 - val_accuracy: 0.8708\n",
      "Epoch 5/10\n",
      "9879/9879 [==============================] - 29s 3ms/step - loss: 0.2800 - accuracy: 0.8865 - val_loss: 0.3119 - val_accuracy: 0.8707\n",
      "Epoch 6/10\n",
      "9879/9879 [==============================] - 30s 3ms/step - loss: 0.2646 - accuracy: 0.8942 - val_loss: 0.3232 - val_accuracy: 0.8707\n",
      "Epoch 7/10\n",
      "9879/9879 [==============================] - 30s 3ms/step - loss: 0.2509 - accuracy: 0.9011 - val_loss: 0.3230 - val_accuracy: 0.8690\n",
      "Epoch 8/10\n",
      "9879/9879 [==============================] - 31s 3ms/step - loss: 0.2374 - accuracy: 0.9074 - val_loss: 0.3307 - val_accuracy: 0.8693\n",
      "Epoch 9/10\n",
      "9879/9879 [==============================] - 30s 3ms/step - loss: 0.2264 - accuracy: 0.9126 - val_loss: 0.3390 - val_accuracy: 0.8653\n"
     ]
    },
    {
     "data": {
      "image/png": "[encoded data removed]",
      "text/plain": [
       "<Figure size 400x200 with 1 Axes>"
      ]
     },
     "metadata": {},
     "output_type": "display_data"
    },
    {
     "name": "stdout",
     "output_type": "stream",
     "text": [
      "10976/10976 [==============================] - 13s 1ms/step\n",
      "2744/2744 [==============================] - 3s 1ms/step\n",
      "Train\n",
      "              precision    recall  f1-score   support\n",
      "\n",
      "       False       0.87      0.80      0.83    120213\n",
      "        True       0.90      0.94      0.92    231012\n",
      "\n",
      "    accuracy                           0.89    351225\n",
      "   macro avg       0.88      0.87      0.88    351225\n",
      "weighted avg       0.89      0.89      0.89    351225\n",
      "\n",
      "Test\n",
      "              precision    recall  f1-score   support\n",
      "\n",
      "       False       0.84      0.76      0.80     30053\n",
      "        True       0.88      0.93      0.90     57754\n",
      "\n",
      "    accuracy                           0.87     87807\n",
      "   macro avg       0.86      0.84      0.85     87807\n",
      "weighted avg       0.87      0.87      0.87     87807\n",
      "\n"
     ]
    },
    {
     "data": {
      "image/png": "[encoded data removed]",
      "text/plain": [
       "<Figure size 600x300 with 2 Axes>"
      ]
     },
     "metadata": {},
     "output_type": "display_data"
    },
    {
     "name": "stdout",
     "output_type": "stream",
     "text": [
      "Finished in 273.42\n",
      "==================================================\n"
     ]
    }
   ],
   "source": [
    "DL_model_fit('DL_tune1', DL_tune1, callback, 'tfidf2g_2000', X_train_tfidf2g_2000, X_test_tfidf2g_2000, y_train, y_test)"
   ]
  },
  {
   "cell_type": "code",
   "execution_count": 32,
   "id": "9d5eb0be-9ef5-4462-a2a5-475224ed7bf7",
   "metadata": {},
   "outputs": [
    {
     "name": "stdout",
     "output_type": "stream",
     "text": [
      "10976/10976 [==============================] - 14s 1ms/step\n"
     ]
    },
    {
     "data": {
      "image/png": "[encoded data removed]",
      "text/plain": [
       "<Figure size 1000x700 with 1 Axes>"
      ]
     },
     "metadata": {},
     "output_type": "display_data"
    }
   ],
   "source": [
    "pre_rec_curve(DL_tune1, X_train_tfidf2g_2000, threshold=0.65)"
   ]
  },
  {
   "cell_type": "code",
   "execution_count": 33,
   "id": "917961af-257a-453b-9739-b91cf56ed91e",
   "metadata": {},
   "outputs": [
    {
     "name": "stdout",
     "output_type": "stream",
     "text": [
      "10976/10976 [==============================] - 13s 1ms/step\n",
      "2744/2744 [==============================] - 4s 1ms/step\n",
      "Train\n",
      "              precision    recall  f1-score   support\n",
      "\n",
      "       False       0.84      0.84      0.84    120213\n",
      "        True       0.92      0.91      0.92    231012\n",
      "\n",
      "    accuracy                           0.89    351225\n",
      "   macro avg       0.88      0.88      0.88    351225\n",
      "weighted avg       0.89      0.89      0.89    351225\n",
      "\n",
      "Test\n",
      "              precision    recall  f1-score   support\n",
      "\n",
      "       False       0.81      0.81      0.81     30053\n",
      "        True       0.90      0.90      0.90     57754\n",
      "\n",
      "    accuracy                           0.87     87807\n",
      "   macro avg       0.85      0.85      0.85     87807\n",
      "weighted avg       0.87      0.87      0.87     87807\n",
      "\n"
     ]
    },
    {
     "data": {
      "image/png": "[encoded data removed]",
      "text/plain": [
       "<Figure size 600x300 with 2 Axes>"
      ]
     },
     "metadata": {},
     "output_type": "display_data"
    },
    {
     "name": "stdout",
     "output_type": "stream",
     "text": [
      "Finished in 0\n",
      "==================================================\n"
     ]
    }
   ],
   "source": [
    "dl_performance('DL_tune1', DL_tune1, 'tfidf2g_2000_0.65', X_train_tfidf2g_2000, X_test_tfidf2g_2000, y_train, y_test, threshold = 0.65)"
   ]
  },
  {
   "cell_type": "markdown",
   "id": "bd18e88e-68d9-430e-8e22-9ca1b5dcdfd8",
   "metadata": {},
   "source": [
    "### Random search model 2"
   ]
  },
  {
   "cell_type": "code",
   "execution_count": null,
   "id": "02c98e37-ed10-423d-97e4-65bd6d97b028",
   "metadata": {},
   "outputs": [],
   "source": [
    "# Hyperparameters:\n",
    "# num_layers: 5\n",
    "# units_0: 128\n",
    "# act_0: relu\n",
    "# dropout_0: 0.25\n",
    "# units_1: 256\n",
    "# act_1: sigmoid\n",
    "# dropout_1: 0.25\n",
    "# learning_rate: 0.001\n",
    "# units_2: 512\n",
    "# act_2: sigmoid\n",
    "# dropout_2: 0.0\n",
    "# units_3: 32\n",
    "# act_3: sigmoid\n",
    "# dropout_3: 0.5\n",
    "# units_4: 32\n",
    "# act_4: relu\n",
    "# dropout_4: 0.1\n",
    "\n",
    "# Score: 0.8568175435066223"
   ]
  },
  {
   "cell_type": "code",
   "execution_count": 34,
   "id": "9942e4f7-aced-4a93-b9bc-e5afe8525c3b",
   "metadata": {},
   "outputs": [],
   "source": [
    "DL_tune2 = make_DL_model_tune(\n",
    "    [128,256, 512, 32 ,32], \n",
    "    [.25, .5, .0, .5, .1], \n",
    "    ['relu', 'sigmoid', 'sigmoid', 'sigmoid', 'relu'],\n",
    "    2000, metric='accuracy')"
   ]
  },
  {
   "cell_type": "code",
   "execution_count": 35,
   "id": "31b9b384-c0e6-4594-a97d-4c84adf14708",
   "metadata": {},
   "outputs": [
    {
     "name": "stdout",
     "output_type": "stream",
     "text": [
      "Training:  DL_tune2 / tfidf2g_2000\n",
      "Epoch 1/10\n",
      "9879/9879 [==============================] - 31s 3ms/step - loss: 0.3563 - accuracy: 0.8495 - val_loss: 0.3263 - val_accuracy: 0.8615\n",
      "Epoch 2/10\n",
      "9879/9879 [==============================] - 29s 3ms/step - loss: 0.3219 - accuracy: 0.8648 - val_loss: 0.3276 - val_accuracy: 0.8662\n",
      "Epoch 3/10\n",
      "9879/9879 [==============================] - 31s 3ms/step - loss: 0.3097 - accuracy: 0.8716 - val_loss: 0.3200 - val_accuracy: 0.8679\n",
      "Epoch 4/10\n",
      "9879/9879 [==============================] - 31s 3ms/step - loss: 0.2974 - accuracy: 0.8783 - val_loss: 0.3150 - val_accuracy: 0.8706\n",
      "Epoch 5/10\n",
      "9879/9879 [==============================] - 34s 3ms/step - loss: 0.2844 - accuracy: 0.8847 - val_loss: 0.3125 - val_accuracy: 0.8706\n",
      "Epoch 6/10\n",
      "9879/9879 [==============================] - 29s 3ms/step - loss: 0.2704 - accuracy: 0.8919 - val_loss: 0.3143 - val_accuracy: 0.8698\n",
      "Epoch 7/10\n",
      "9879/9879 [==============================] - 31s 3ms/step - loss: 0.2575 - accuracy: 0.8980 - val_loss: 0.3143 - val_accuracy: 0.8709\n",
      "Epoch 8/10\n",
      "9879/9879 [==============================] - 30s 3ms/step - loss: 0.2443 - accuracy: 0.9041 - val_loss: 0.3155 - val_accuracy: 0.8692\n",
      "Epoch 9/10\n",
      "9879/9879 [==============================] - 31s 3ms/step - loss: 0.2330 - accuracy: 0.9099 - val_loss: 0.3206 - val_accuracy: 0.8675\n",
      "Epoch 10/10\n",
      "9879/9879 [==============================] - 29s 3ms/step - loss: 0.2232 - accuracy: 0.9149 - val_loss: 0.3256 - val_accuracy: 0.8650\n"
     ]
    },
    {
     "data": {
      "image/png": "[encoded data removed]",
      "text/plain": [
       "<Figure size 400x200 with 1 Axes>"
      ]
     },
     "metadata": {},
     "output_type": "display_data"
    },
    {
     "name": "stdout",
     "output_type": "stream",
     "text": [
      "10976/10976 [==============================] - 13s 1ms/step\n",
      "2744/2744 [==============================] - 3s 1ms/step\n",
      "Train\n",
      "              precision    recall  f1-score   support\n",
      "\n",
      "       False       0.86      0.84      0.85    120213\n",
      "        True       0.92      0.93      0.92    231012\n",
      "\n",
      "    accuracy                           0.90    351225\n",
      "   macro avg       0.89      0.88      0.88    351225\n",
      "weighted avg       0.90      0.90      0.90    351225\n",
      "\n",
      "Test\n",
      "              precision    recall  f1-score   support\n",
      "\n",
      "       False       0.82      0.80      0.81     30053\n",
      "        True       0.89      0.91      0.90     57754\n",
      "\n",
      "    accuracy                           0.87     87807\n",
      "   macro avg       0.86      0.85      0.85     87807\n",
      "weighted avg       0.87      0.87      0.87     87807\n",
      "\n"
     ]
    },
    {
     "data": {
      "image/png": "[encoded data removed]",
      "text/plain": [
       "<Figure size 600x300 with 2 Axes>"
      ]
     },
     "metadata": {},
     "output_type": "display_data"
    },
    {
     "name": "stdout",
     "output_type": "stream",
     "text": [
      "Finished in 309.52\n",
      "==================================================\n"
     ]
    }
   ],
   "source": [
    "DL_model_fit('DL_tune2', DL_tune2, callback, 'tfidf2g_2000', X_train_tfidf2g_2000, X_test_tfidf2g_2000, y_train, y_test)"
   ]
  },
  {
   "cell_type": "code",
   "execution_count": 38,
   "id": "e9e26536-0910-472c-b07c-34a4c083e6ea",
   "metadata": {},
   "outputs": [
    {
     "name": "stdout",
     "output_type": "stream",
     "text": [
      "10976/10976 [==============================] - 13s 1ms/step\n"
     ]
    },
    {
     "data": {
      "image/png": "[encoded data removed]",
      "text/plain": [
       "<Figure size 1000x700 with 1 Axes>"
      ]
     },
     "metadata": {},
     "output_type": "display_data"
    }
   ],
   "source": [
    "pre_rec_curve(DL_tune2, X_train_tfidf2g_2000, threshold=0.5)"
   ]
  },
  {
   "cell_type": "markdown",
   "id": "0fae004e-0a72-4e86-b59e-b596513c2a7d",
   "metadata": {},
   "source": [
    "### Dash"
   ]
  },
  {
   "cell_type": "markdown",
   "id": "5fb7a511-2d53-4393-9721-bd6e6d3cc25a",
   "metadata": {},
   "source": [
    "https://ml.dask.org/keras.html"
   ]
  },
  {
   "cell_type": "code",
   "execution_count": 29,
   "id": "06aec250-545d-40cf-9f01-ad1091949562",
   "metadata": {
    "executionInfo": {
     "elapsed": 2114,
     "status": "ok",
     "timestamp": 1681883266563,
     "user": {
      "displayName": "Khang Nguyễn",
      "userId": "11569688765214951887"
     },
     "user_tz": -420
    },
    "id": "a366de25-5cb7-4744-a40a-fbd1521ec9c6"
   },
   "outputs": [],
   "source": [
    "import dask_ml.model_selection as dcv\n",
    "# from dask_ml.model_selection import GridSearchCV as DaskGridSearchCV"
   ]
  },
  {
   "cell_type": "code",
   "execution_count": 30,
   "id": "08d6d99d-b90f-4773-809c-2307a63c755a",
   "metadata": {
    "executionInfo": {
     "elapsed": 43802,
     "status": "ok",
     "timestamp": 1681883365540,
     "user": {
      "displayName": "Khang Nguyễn",
      "userId": "11569688765214951887"
     },
     "user_tz": -420
    },
    "id": "NWys3rntCDWc"
   },
   "outputs": [],
   "source": [
    "X_train, X_test, y_train, y_test = train_test_split(X, y, stratify = y, train_size=0.1, random_state=14)\n",
    "\n",
    "X_train_tfidf2g_2000, X_test_tfidf2g_2000 = tfidf2g_vectorizer(X_train, X_test, 2000)\n",
    "del X_test_tfidf2g_2000"
   ]
  },
  {
   "cell_type": "code",
   "execution_count": 31,
   "id": "fa3f1ec4-9e8a-41e4-a0e1-9cb1ee5c01ab",
   "metadata": {
    "colab": {
     "base_uri": "https://localhost:8080/",
     "height": 968
    },
    "executionInfo": {
     "elapsed": 193896,
     "status": "ok",
     "timestamp": 1681883559427,
     "user": {
      "displayName": "Khang Nguyễn",
      "userId": "11569688765214951887"
     },
     "user_tz": -420
    },
    "id": "2dffad68-14fa-4e5b-bdf5-6f3960d83b3a",
    "outputId": "21c2a811-db90-4434-892e-89efd686139f"
   },
   "outputs": [
    {
     "name": "stdout",
     "output_type": "stream",
     "text": [
      "921/921 [==============================] - 14s 7ms/step - loss: 0.3963 - accuracy: 0.8188\n",
      "921/921 [==============================] - 14s 7ms/step - loss: 0.3939 - accuracy: 0.8215\n",
      "461/461 [==============================] - 1s 2ms/step - loss: 0.3470 - accuracy: 0.8513\n",
      "921/921 [==============================] - 5s 4ms/step - loss: 0.3955 - accuracy: 0.8196\n",
      "461/461 [==============================] - 2s 5ms/step - loss: 0.3447 - accuracy: 0.8538\n",
      "461/461 [==============================] - 3s 5ms/step - loss: 0.3516 - accuracy: 0.8472\n",
      "921/921 [==============================] - 9s 7ms/step - loss: 0.3925 - accuracy: 0.8217\n",
      "921/921 [==============================] - 10s 8ms/step - loss: 0.3980 - accuracy: 0.8186\n",
      "461/461 [==============================] - 4s 6ms/step - loss: 0.3541 - accuracy: 0.8472\n",
      "461/461 [==============================] - 3s 5ms/step - loss: 0.3482 - accuracy: 0.8513\n",
      "921/921 [==============================] - 9s 7ms/step - loss: 0.3940 - accuracy: 0.8204\n",
      "921/921 [==============================] - 10s 8ms/step - loss: 0.3900 - accuracy: 0.8225\n",
      "461/461 [==============================] - 2s 3ms/step - loss: 0.3443 - accuracy: 0.8540\n",
      "461/461 [==============================] - 3s 6ms/step - loss: 0.3560 - accuracy: 0.8458\n",
      "921/921 [==============================] - 10s 7ms/step - loss: 0.3958 - accuracy: 0.8209\n",
      "921/921 [==============================] - 11s 8ms/step - loss: 0.3926 - accuracy: 0.8215\n",
      "461/461 [==============================] - 3s 4ms/step - loss: 0.3506 - accuracy: 0.8507\n",
      "461/461 [==============================] - 2s 4ms/step - loss: 0.3457 - accuracy: 0.8518\n",
      "921/921 [==============================] - 12s 8ms/step - loss: 0.3933 - accuracy: 0.8209\n",
      "461/461 [==============================] - 2s 4ms/step - loss: 0.3588 - accuracy: 0.8467\n",
      "921/921 [==============================] - 13s 9ms/step - loss: 0.4000 - accuracy: 0.8178\n",
      "461/461 [==============================] - 2s 3ms/step - loss: 0.3545 - accuracy: 0.8509\n",
      "921/921 [==============================] - 13s 9ms/step - loss: 0.3970 - accuracy: 0.8193\n",
      "921/921 [==============================] - 9s 7ms/step - loss: 0.5296 - accuracy: 0.7333\n",
      "461/461 [==============================] - 2s 5ms/step - loss: 0.3477 - accuracy: 0.8505\n",
      "461/461 [==============================] - 2s 4ms/step - loss: 0.3757 - accuracy: 0.8406\n",
      "921/921 [==============================] - 9s 7ms/step - loss: 0.5311 - accuracy: 0.7322\n",
      "921/921 [==============================] - 10s 7ms/step - loss: 0.5487 - accuracy: 0.7135\n",
      "461/461 [==============================] - 1s 2ms/step - loss: 0.3907 - accuracy: 0.8339\n",
      "461/461 [==============================] - 2s 4ms/step - loss: 0.3771 - accuracy: 0.8433\n",
      "921/921 [==============================] - 10s 7ms/step - loss: 0.5368 - accuracy: 0.7266\n",
      "461/461 [==============================] - 2s 5ms/step - loss: 0.3625 - accuracy: 0.8429\n",
      "921/921 [==============================] - 10s 8ms/step - loss: 0.5443 - accuracy: 0.7193\n",
      "461/461 [==============================] - 2s 4ms/step - loss: 0.3644 - accuracy: 0.8449\n",
      "921/921 [==============================] - 9s 7ms/step - loss: 0.5290 - accuracy: 0.7329\n",
      "921/921 [==============================] - 10s 5ms/step - loss: 0.5305 - accuracy: 0.7328\n",
      "461/461 [==============================] - 2s 4ms/step - loss: 0.3615 - accuracy: 0.8467\n",
      "461/461 [==============================] - 2s 4ms/step - loss: 0.3598 - accuracy: 0.8450\n",
      "921/921 [==============================] - 9s 8ms/step - loss: 0.5608 - accuracy: 0.7090\n",
      "461/461 [==============================] - 2s 3ms/step - loss: 0.3667 - accuracy: 0.8427\n",
      "921/921 [==============================] - 11s 7ms/step - loss: 0.5403 - accuracy: 0.7270\n",
      "461/461 [==============================] - 3s 6ms/step - loss: 0.3635 - accuracy: 0.8469\n",
      "921/921 [==============================] - 11s 7ms/step - loss: 0.5579 - accuracy: 0.7143\n",
      "461/461 [==============================] - 3s 6ms/step - loss: 0.3674 - accuracy: 0.8459\n",
      "921/921 [==============================] - 11s 8ms/step - loss: 0.5720 - accuracy: 0.7057\n",
      "921/921 [==============================] - 11s 8ms/step - loss: 0.5628 - accuracy: 0.7122\n",
      "461/461 [==============================] - 3s 5ms/step - loss: 0.3731 - accuracy: 0.8405\n",
      "461/461 [==============================] - 2s 3ms/step - loss: 0.3741 - accuracy: 0.8454\n",
      "1382/1382 [==============================] - 8s 4ms/step - loss: 0.3804 - accuracy: 0.8320\n"
     ]
    },
    {
     "data": {
      "text/html": [
       "<style>#sk-container-id-1 {color: black;background-color: white;}#sk-container-id-1 pre{padding: 0;}#sk-container-id-1 div.sk-toggleable {background-color: white;}#sk-container-id-1 label.sk-toggleable__label {cursor: pointer;display: block;width: 100%;margin-bottom: 0;padding: 0.3em;box-sizing: border-box;text-align: center;}#sk-container-id-1 label.sk-toggleable__label-arrow:before {content: \"▸\";float: left;margin-right: 0.25em;color: #696969;}#sk-container-id-1 label.sk-toggleable__label-arrow:hover:before {color: black;}#sk-container-id-1 div.sk-estimator:hover label.sk-toggleable__label-arrow:before {color: black;}#sk-container-id-1 div.sk-toggleable__content {max-height: 0;max-width: 0;overflow: hidden;text-align: left;background-color: #f0f8ff;}#sk-container-id-1 div.sk-toggleable__content pre {margin: 0.2em;color: black;border-radius: 0.25em;background-color: #f0f8ff;}#sk-container-id-1 input.sk-toggleable__control:checked~div.sk-toggleable__content {max-height: 200px;max-width: 100%;overflow: auto;}#sk-container-id-1 input.sk-toggleable__control:checked~label.sk-toggleable__label-arrow:before {content: \"▾\";}#sk-container-id-1 div.sk-estimator input.sk-toggleable__control:checked~label.sk-toggleable__label {background-color: #d4ebff;}#sk-container-id-1 div.sk-label input.sk-toggleable__control:checked~label.sk-toggleable__label {background-color: #d4ebff;}#sk-container-id-1 input.sk-hidden--visually {border: 0;clip: rect(1px 1px 1px 1px);clip: rect(1px, 1px, 1px, 1px);height: 1px;margin: -1px;overflow: hidden;padding: 0;position: absolute;width: 1px;}#sk-container-id-1 div.sk-estimator {font-family: monospace;background-color: #f0f8ff;border: 1px dotted black;border-radius: 0.25em;box-sizing: border-box;margin-bottom: 0.5em;}#sk-container-id-1 div.sk-estimator:hover {background-color: #d4ebff;}#sk-container-id-1 div.sk-parallel-item::after {content: \"\";width: 100%;border-bottom: 1px solid gray;flex-grow: 1;}#sk-container-id-1 div.sk-label:hover label.sk-toggleable__label {background-color: #d4ebff;}#sk-container-id-1 div.sk-serial::before {content: \"\";position: absolute;border-left: 1px solid gray;box-sizing: border-box;top: 0;bottom: 0;left: 50%;z-index: 0;}#sk-container-id-1 div.sk-serial {display: flex;flex-direction: column;align-items: center;background-color: white;padding-right: 0.2em;padding-left: 0.2em;position: relative;}#sk-container-id-1 div.sk-item {position: relative;z-index: 1;}#sk-container-id-1 div.sk-parallel {display: flex;align-items: stretch;justify-content: center;background-color: white;position: relative;}#sk-container-id-1 div.sk-item::before, #sk-container-id-1 div.sk-parallel-item::before {content: \"\";position: absolute;border-left: 1px solid gray;box-sizing: border-box;top: 0;bottom: 0;left: 50%;z-index: -1;}#sk-container-id-1 div.sk-parallel-item {display: flex;flex-direction: column;z-index: 1;position: relative;background-color: white;}#sk-container-id-1 div.sk-parallel-item:first-child::after {align-self: flex-end;width: 50%;}#sk-container-id-1 div.sk-parallel-item:last-child::after {align-self: flex-start;width: 50%;}#sk-container-id-1 div.sk-parallel-item:only-child::after {width: 0;}#sk-container-id-1 div.sk-dashed-wrapped {border: 1px dashed gray;margin: 0 0.4em 0.5em 0.4em;box-sizing: border-box;padding-bottom: 0.4em;background-color: white;}#sk-container-id-1 div.sk-label label {font-family: monospace;font-weight: bold;display: inline-block;line-height: 1.2em;}#sk-container-id-1 div.sk-label-container {text-align: center;}#sk-container-id-1 div.sk-container {/* jupyter's `normalize.less` sets `[hidden] { display: none; }` but bootstrap.min.css set `[hidden] { display: none !important; }` so we also need the `!important` here to be able to override the default hidden behavior on the sphinx rendered scikit-learn.org. See: https://github.com/scikit-learn/scikit-learn/issues/21755 */display: inline-block !important;position: relative;}#sk-container-id-1 div.sk-text-repr-fallback {display: none;}</style><div id=\"sk-container-id-1\" class=\"sk-top-container\"><div class=\"sk-text-repr-fallback\"><pre>GridSearchCV(cv=3,\n",
       "             estimator=&lt;keras.wrappers.scikit_learn.KerasClassifier object at 0x7f5e8f8e82e0&gt;,\n",
       "             param_grid={&#x27;activation&#x27;: [&#x27;relu&#x27;, &#x27;sigmoid&#x27;],\n",
       "                         &#x27;num_layers&#x27;: range(2, 6),\n",
       "                         &#x27;num_neurons&#x27;: range(32, 64, 128)})</pre><b>In a Jupyter environment, please rerun this cell to show the HTML representation or trust the notebook. <br />On GitHub, the HTML representation is unable to render, please try loading this page with nbviewer.org.</b></div><div class=\"sk-container\" hidden><div class=\"sk-item sk-dashed-wrapped\"><div class=\"sk-label-container\"><div class=\"sk-label sk-toggleable\"><input class=\"sk-toggleable__control sk-hidden--visually\" id=\"sk-estimator-id-1\" type=\"checkbox\" ><label for=\"sk-estimator-id-1\" class=\"sk-toggleable__label sk-toggleable__label-arrow\">GridSearchCV</label><div class=\"sk-toggleable__content\"><pre>GridSearchCV(cv=3,\n",
       "             estimator=&lt;keras.wrappers.scikit_learn.KerasClassifier object at 0x7f5e8f8e82e0&gt;,\n",
       "             param_grid={&#x27;activation&#x27;: [&#x27;relu&#x27;, &#x27;sigmoid&#x27;],\n",
       "                         &#x27;num_layers&#x27;: range(2, 6),\n",
       "                         &#x27;num_neurons&#x27;: range(32, 64, 128)})</pre></div></div></div><div class=\"sk-parallel\"><div class=\"sk-parallel-item\"><div class=\"sk-item\"><div class=\"sk-label-container\"><div class=\"sk-label sk-toggleable\"><input class=\"sk-toggleable__control sk-hidden--visually\" id=\"sk-estimator-id-2\" type=\"checkbox\" ><label for=\"sk-estimator-id-2\" class=\"sk-toggleable__label sk-toggleable__label-arrow\">estimator: KerasClassifier</label><div class=\"sk-toggleable__content\"><pre>&lt;keras.wrappers.scikit_learn.KerasClassifier object at 0x7f5e8f8e82e0&gt;</pre></div></div></div><div class=\"sk-serial\"><div class=\"sk-item\"><div class=\"sk-estimator sk-toggleable\"><input class=\"sk-toggleable__control sk-hidden--visually\" id=\"sk-estimator-id-3\" type=\"checkbox\" ><label for=\"sk-estimator-id-3\" class=\"sk-toggleable__label sk-toggleable__label-arrow\">KerasClassifier</label><div class=\"sk-toggleable__content\"><pre>&lt;keras.wrappers.scikit_learn.KerasClassifier object at 0x7f5e8f8e82e0&gt;</pre></div></div></div></div></div></div></div></div></div></div>"
      ],
      "text/plain": [
       "GridSearchCV(cv=3,\n",
       "             estimator=<keras.wrappers.scikit_learn.KerasClassifier object at 0x7f5e8f8e82e0>,\n",
       "             param_grid={'activation': ['relu', 'sigmoid'],\n",
       "                         'num_layers': range(2, 6),\n",
       "                         'num_neurons': range(32, 64, 128)})"
      ]
     },
     "execution_count": 31,
     "metadata": {},
     "output_type": "execute_result"
    }
   ],
   "source": [
    "param_grid = {'num_layers': range(2, 6),\n",
    "              'num_neurons': range(32, 64, 128),\n",
    "              'activation': ['relu', 'sigmoid']}\n",
    "\n",
    "def create_model(num_layers, num_neurons, activation):\n",
    "    model = Sequential()\n",
    "    for i in range(num_layers):\n",
    "        model.add(Dense(units=num_neurons, activation=activation))\n",
    "    model.add(Dense(units=1, activation='sigmoid'))\n",
    "    model.compile(loss='binary_crossentropy', optimizer='adam', metrics=['accuracy'])\n",
    "    return model\n",
    "\n",
    "model_dask = KerasClassifier(build_fn=create_model, num_layers=None, num_neurons=None, activation=None)\n",
    "\n",
    "dask_grid = dcv.GridSearchCV(estimator=model_dask, param_grid=param_grid, cv=3)\n",
    "\n",
    "dask_grid.fit(X_train_tfidf2g_2000, y_train, verbose=1)"
   ]
  },
  {
   "cell_type": "code",
   "execution_count": 32,
   "id": "9c50d79c-7e55-4602-b92c-b93cbbfb6596",
   "metadata": {
    "colab": {
     "base_uri": "https://localhost:8080/"
    },
    "executionInfo": {
     "elapsed": 7,
     "status": "ok",
     "timestamp": 1681883559428,
     "user": {
      "displayName": "Khang Nguyễn",
      "userId": "11569688765214951887"
     },
     "user_tz": -420
    },
    "id": "c86e5db0-49d9-4e7e-b570-3094ad1fb07b",
    "outputId": "ceff23e7-fbba-483f-a54f-6ad18053f28c"
   },
   "outputs": [
    {
     "data": {
      "text/plain": [
       "{'params': [{'activation': 'relu', 'num_layers': 2, 'num_neurons': 32},\n",
       "  {'activation': 'relu', 'num_layers': 3, 'num_neurons': 32},\n",
       "  {'activation': 'relu', 'num_layers': 4, 'num_neurons': 32},\n",
       "  {'activation': 'relu', 'num_layers': 5, 'num_neurons': 32},\n",
       "  {'activation': 'sigmoid', 'num_layers': 2, 'num_neurons': 32},\n",
       "  {'activation': 'sigmoid', 'num_layers': 3, 'num_neurons': 32},\n",
       "  {'activation': 'sigmoid', 'num_layers': 4, 'num_neurons': 32},\n",
       "  {'activation': 'sigmoid', 'num_layers': 5, 'num_neurons': 32}],\n",
       " 'mean_fit_time': array([14.7600391 , 10.8544232 , 11.59445694, 13.02906332, 10.88644017,\n",
       "        11.93128282, 12.30221477, 12.44144957]),\n",
       " 'std_fit_time': array([7.08799639, 1.17576919, 0.68683345, 0.49478711, 1.24288462,\n",
       "        0.99146745, 2.16510171, 0.4089445 ]),\n",
       " 'mean_score_time': array([2.50916805, 3.13434682, 3.17610057, 2.59971756, 2.31473641,\n",
       "        2.84156424, 3.98294736, 3.09731037]),\n",
       " 'std_score_time': array([0.75995079, 0.82099079, 0.0604207 , 0.46500324, 0.67777525,\n",
       "        0.40885393, 1.60629736, 0.04121991]),\n",
       " 'split0_test_score': array([0.84715623, 0.84715623, 0.84579885, 0.84674901, 0.84057283,\n",
       "        0.84294826, 0.84498441, 0.84586668]),\n",
       " 'split1_test_score': array([0.85128623, 0.85128623, 0.85067534, 0.85094684, 0.84334487,\n",
       "        0.84490597, 0.84273398, 0.84049416]),\n",
       " 'split2_test_score': array([0.85379761, 0.85400122, 0.85182923, 0.85047174, 0.83391029,\n",
       "        0.84667075, 0.84687436, 0.84538114]),\n",
       " 'mean_test_score': array([0.85074661, 0.85081448, 0.84943439, 0.84938914, 0.83927603,\n",
       "        0.84484162, 0.84486425, 0.84391404]),\n",
       " 'std_test_score': array([0.00273807, 0.00281431, 0.00261361, 0.00187696, 0.00395927,\n",
       "        0.00152039, 0.00169242, 0.00242629]),\n",
       " 'rank_test_score': array([2, 1, 3, 4, 8, 6, 5, 7], dtype=int32),\n",
       " 'param_activation': masked_array(data=['relu', 'relu', 'relu', 'relu', 'sigmoid', 'sigmoid',\n",
       "                    'sigmoid', 'sigmoid'],\n",
       "              mask=[False, False, False, False, False, False, False, False],\n",
       "        fill_value='?',\n",
       "             dtype=object),\n",
       " 'param_num_layers': masked_array(data=[2, 3, 4, 5, 2, 3, 4, 5],\n",
       "              mask=[False, False, False, False, False, False, False, False],\n",
       "        fill_value='?',\n",
       "             dtype=object),\n",
       " 'param_num_neurons': masked_array(data=[32, 32, 32, 32, 32, 32, 32, 32],\n",
       "              mask=[False, False, False, False, False, False, False, False],\n",
       "        fill_value='?',\n",
       "             dtype=object)}"
      ]
     },
     "execution_count": 32,
     "metadata": {},
     "output_type": "execute_result"
    }
   ],
   "source": [
    "dask_grid.cv_results_"
   ]
  }
 ],
 "metadata": {
  "kernelspec": {
   "display_name": "Python 3 (ipykernel)",
   "language": "python",
   "name": "python3"
  },
  "language_info": {
   "codemirror_mode": {
    "name": "ipython",
    "version": 3
   },
   "file_extension": ".py",
   "mimetype": "text/x-python",
   "name": "python",
   "nbconvert_exporter": "python",
   "pygments_lexer": "ipython3",
   "version": "3.9.15"
  }
 },
 "nbformat": 4,
 "nbformat_minor": 5
}
