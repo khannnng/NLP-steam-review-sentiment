{
 "cells": [
  {
   "cell_type": "markdown",
   "id": "1f088a72-5f1a-490e-9c22-b4f24351d48b",
   "metadata": {
    "tags": []
   },
   "source": [
    "## 0. Import library"
   ]
  },
  {
   "cell_type": "code",
   "execution_count": 3,
   "id": "58d63e88-ce7b-4020-80ab-3b102bdc1e04",
   "metadata": {},
   "outputs": [],
   "source": [
    "# Basic\n",
    "import pandas as pd\n",
    "import numpy as np\n",
    "import seaborn as sns\n",
    "import matplotlib.pyplot as plt\n",
    "import time\n",
    "pd.options.display.float_format = \"{:,.4f}\".format\n",
    "import gc\n",
    "\n",
    "import re\n",
    "\n",
    "import warnings;\n",
    "warnings.filterwarnings('ignore')"
   ]
  },
  {
   "cell_type": "code",
   "execution_count": 4,
   "id": "ff4b7d75-9312-41e4-920f-215d9dc67c7b",
   "metadata": {},
   "outputs": [],
   "source": [
    "# model\n",
    "from sklearn.model_selection import train_test_split\n",
    "from sklearn.feature_extraction.text import CountVectorizer, TfidfVectorizer\n",
    "\n",
    "from sklearn.metrics import classification_report, confusion_matrix, accuracy_score, precision_score, recall_score, f1_score, precision_recall_curve, roc_curve, roc_auc_score\n"
   ]
  },
  {
   "cell_type": "markdown",
   "id": "b2a63eb6-94b1-4679-a8d3-0369b51ad8ec",
   "metadata": {
    "tags": []
   },
   "source": [
    "## 1. Import data"
   ]
  },
  {
   "cell_type": "code",
   "execution_count": 5,
   "id": "23dbd992-17f8-4e06-9be0-db895e760acf",
   "metadata": {},
   "outputs": [],
   "source": [
    "# df = pd.read_csv('reviews_cleaned.csv', parse_dates=['timestamp_created'])\n",
    "\n",
    "\n",
    "df = pd.read_csv('Scraped data\\scraped_data_559k.csv', parse_dates=['timestamp_created'])"
   ]
  },
  {
   "cell_type": "code",
   "execution_count": 6,
   "id": "f2591b46-5f0a-46c5-8334-eba67057fee4",
   "metadata": {},
   "outputs": [
    {
     "data": {
      "text/html": [
       "<div>\n",
       "<style scoped>\n",
       "    .dataframe tbody tr th:only-of-type {\n",
       "        vertical-align: middle;\n",
       "    }\n",
       "\n",
       "    .dataframe tbody tr th {\n",
       "        vertical-align: top;\n",
       "    }\n",
       "\n",
       "    .dataframe thead th {\n",
       "        text-align: right;\n",
       "    }\n",
       "</style>\n",
       "<table border=\"1\" class=\"dataframe\">\n",
       "  <thead>\n",
       "    <tr style=\"text-align: right;\">\n",
       "      <th></th>\n",
       "      <th>recommendationid</th>\n",
       "      <th>review</th>\n",
       "      <th>timestamp_created</th>\n",
       "      <th>voted_up</th>\n",
       "    </tr>\n",
       "  </thead>\n",
       "  <tbody>\n",
       "    <tr>\n",
       "      <th>0</th>\n",
       "      <td>132354840</td>\n",
       "      <td>Loe, love, LOVE this game.\\n\\nI purchased it w...</td>\n",
       "      <td>1675747403</td>\n",
       "      <td>True</td>\n",
       "    </tr>\n",
       "    <tr>\n",
       "      <th>1</th>\n",
       "      <td>132354525</td>\n",
       "      <td>shouldve been more</td>\n",
       "      <td>1675746707</td>\n",
       "      <td>False</td>\n",
       "    </tr>\n",
       "    <tr>\n",
       "      <th>2</th>\n",
       "      <td>132354176</td>\n",
       "      <td>It's fun</td>\n",
       "      <td>1675745970</td>\n",
       "      <td>True</td>\n",
       "    </tr>\n",
       "    <tr>\n",
       "      <th>3</th>\n",
       "      <td>132353890</td>\n",
       "      <td>full gen z game.</td>\n",
       "      <td>1675745336</td>\n",
       "      <td>False</td>\n",
       "    </tr>\n",
       "    <tr>\n",
       "      <th>4</th>\n",
       "      <td>132353500</td>\n",
       "      <td>it good that is all</td>\n",
       "      <td>1675744599</td>\n",
       "      <td>True</td>\n",
       "    </tr>\n",
       "  </tbody>\n",
       "</table>\n",
       "</div>"
      ],
      "text/plain": [
       "   recommendationid                                             review  \\\n",
       "0         132354840  Loe, love, LOVE this game.\\n\\nI purchased it w...   \n",
       "1         132354525                                 shouldve been more   \n",
       "2         132354176                                           It's fun   \n",
       "3         132353890                                   full gen z game.   \n",
       "4         132353500                                it good that is all   \n",
       "\n",
       "  timestamp_created  voted_up  \n",
       "0        1675747403      True  \n",
       "1        1675746707     False  \n",
       "2        1675745970      True  \n",
       "3        1675745336     False  \n",
       "4        1675744599      True  "
      ]
     },
     "execution_count": 6,
     "metadata": {},
     "output_type": "execute_result"
    }
   ],
   "source": [
    "df.head()"
   ]
  },
  {
   "cell_type": "code",
   "execution_count": 7,
   "id": "d6be0746-121c-498e-b33e-67c5b711825d",
   "metadata": {},
   "outputs": [
    {
     "data": {
      "text/plain": [
       "(True     385474\n",
       " False    173649\n",
       " Name: voted_up, dtype: int64,\n",
       " True    0.6894\n",
       " False   0.3106\n",
       " Name: voted_up, dtype: float64)"
      ]
     },
     "execution_count": 7,
     "metadata": {},
     "output_type": "execute_result"
    }
   ],
   "source": [
    " df['voted_up'].value_counts(), df['voted_up'].value_counts(normalize = True)"
   ]
  },
  {
   "cell_type": "markdown",
   "id": "9940ca15-c1c9-4ae9-b574-92b9d309ca35",
   "metadata": {},
   "source": [
    "**Drop nulls**"
   ]
  },
  {
   "cell_type": "code",
   "execution_count": 8,
   "id": "e25ab920-99ad-4bb6-bd55-8b15861b03ee",
   "metadata": {},
   "outputs": [
    {
     "data": {
      "text/plain": [
       "False    557447\n",
       "True       1676\n",
       "Name: review, dtype: int64"
      ]
     },
     "execution_count": 8,
     "metadata": {},
     "output_type": "execute_result"
    }
   ],
   "source": [
    "df['review'].isna().value_counts()"
   ]
  },
  {
   "cell_type": "code",
   "execution_count": 9,
   "id": "f3c3db26-3439-420d-bb98-f69bcd116a9f",
   "metadata": {},
   "outputs": [],
   "source": [
    "df.dropna(subset='review', inplace=True)"
   ]
  },
  {
   "cell_type": "code",
   "execution_count": 10,
   "id": "efdc0e80-5720-474d-8f83-3457754e796e",
   "metadata": {},
   "outputs": [
    {
     "data": {
      "text/plain": [
       "False    557447\n",
       "Name: review, dtype: int64"
      ]
     },
     "execution_count": 10,
     "metadata": {},
     "output_type": "execute_result"
    }
   ],
   "source": [
    "df['review'].isna().value_counts()"
   ]
  },
  {
   "cell_type": "markdown",
   "id": "4dd2d7cf-5d73-418c-b096-f6e9ae8abda8",
   "metadata": {},
   "source": [
    "**Drop duplicates**"
   ]
  },
  {
   "cell_type": "code",
   "execution_count": 11,
   "id": "fdfefcfd-c25f-4131-8f4c-88291695f172",
   "metadata": {},
   "outputs": [
    {
     "data": {
      "text/plain": [
       "False    465791\n",
       "True      91656\n",
       "Name: review, dtype: int64"
      ]
     },
     "execution_count": 11,
     "metadata": {},
     "output_type": "execute_result"
    }
   ],
   "source": [
    "df['review'].duplicated().value_counts()"
   ]
  },
  {
   "cell_type": "code",
   "execution_count": 12,
   "id": "558ea4eb-727d-4c1f-9668-87c0019fa7ca",
   "metadata": {},
   "outputs": [],
   "source": [
    "df.drop_duplicates(subset='review', keep='first', inplace=True)"
   ]
  },
  {
   "cell_type": "code",
   "execution_count": 13,
   "id": "43e56091-7e08-4fd5-92a3-6dc003bb9f3d",
   "metadata": {},
   "outputs": [
    {
     "data": {
      "text/plain": [
       "False    465791\n",
       "Name: review, dtype: int64"
      ]
     },
     "execution_count": 13,
     "metadata": {},
     "output_type": "execute_result"
    }
   ],
   "source": [
    "df['review'].duplicated().value_counts()"
   ]
  },
  {
   "cell_type": "markdown",
   "id": "e953a370-baa1-4d26-90a9-3c54568ab73d",
   "metadata": {},
   "source": [
    "**Convert timestamp_created to datetime**"
   ]
  },
  {
   "cell_type": "code",
   "execution_count": 14,
   "id": "24366ae1-09a9-41e5-9fd1-faf14fb0a7e8",
   "metadata": {},
   "outputs": [
    {
     "data": {
      "text/html": [
       "<div>\n",
       "<style scoped>\n",
       "    .dataframe tbody tr th:only-of-type {\n",
       "        vertical-align: middle;\n",
       "    }\n",
       "\n",
       "    .dataframe tbody tr th {\n",
       "        vertical-align: top;\n",
       "    }\n",
       "\n",
       "    .dataframe thead th {\n",
       "        text-align: right;\n",
       "    }\n",
       "</style>\n",
       "<table border=\"1\" class=\"dataframe\">\n",
       "  <thead>\n",
       "    <tr style=\"text-align: right;\">\n",
       "      <th></th>\n",
       "      <th>recommendationid</th>\n",
       "      <th>review</th>\n",
       "      <th>timestamp_created</th>\n",
       "      <th>voted_up</th>\n",
       "    </tr>\n",
       "  </thead>\n",
       "  <tbody>\n",
       "    <tr>\n",
       "      <th>0</th>\n",
       "      <td>132354840</td>\n",
       "      <td>Loe, love, LOVE this game.\\n\\nI purchased it w...</td>\n",
       "      <td>2023-02-07</td>\n",
       "      <td>True</td>\n",
       "    </tr>\n",
       "    <tr>\n",
       "      <th>1</th>\n",
       "      <td>132354525</td>\n",
       "      <td>shouldve been more</td>\n",
       "      <td>2023-02-07</td>\n",
       "      <td>False</td>\n",
       "    </tr>\n",
       "    <tr>\n",
       "      <th>2</th>\n",
       "      <td>132354176</td>\n",
       "      <td>It's fun</td>\n",
       "      <td>2023-02-07</td>\n",
       "      <td>True</td>\n",
       "    </tr>\n",
       "    <tr>\n",
       "      <th>3</th>\n",
       "      <td>132353890</td>\n",
       "      <td>full gen z game.</td>\n",
       "      <td>2023-02-07</td>\n",
       "      <td>False</td>\n",
       "    </tr>\n",
       "    <tr>\n",
       "      <th>4</th>\n",
       "      <td>132353500</td>\n",
       "      <td>it good that is all</td>\n",
       "      <td>2023-02-07</td>\n",
       "      <td>True</td>\n",
       "    </tr>\n",
       "  </tbody>\n",
       "</table>\n",
       "</div>"
      ],
      "text/plain": [
       "   recommendationid                                             review  \\\n",
       "0         132354840  Loe, love, LOVE this game.\\n\\nI purchased it w...   \n",
       "1         132354525                                 shouldve been more   \n",
       "2         132354176                                           It's fun   \n",
       "3         132353890                                   full gen z game.   \n",
       "4         132353500                                it good that is all   \n",
       "\n",
       "  timestamp_created  voted_up  \n",
       "0        2023-02-07      True  \n",
       "1        2023-02-07     False  \n",
       "2        2023-02-07      True  \n",
       "3        2023-02-07     False  \n",
       "4        2023-02-07      True  "
      ]
     },
     "execution_count": 14,
     "metadata": {},
     "output_type": "execute_result"
    }
   ],
   "source": [
    "df['timestamp_created'] = pd.to_datetime(df['timestamp_created'],unit='s')\n",
    "df['timestamp_created'] = pd.to_datetime(df['timestamp_created'].dt.date)\n",
    "df.head()"
   ]
  },
  {
   "cell_type": "markdown",
   "id": "92122ebe-149e-41ee-ba3f-b2458c27a141",
   "metadata": {},
   "source": [
    "**Remove formatting**"
   ]
  },
  {
   "cell_type": "code",
   "execution_count": 15,
   "id": "d6d96ba6-33ab-4ef2-9600-870943fd97fc",
   "metadata": {},
   "outputs": [],
   "source": [
    "def remove_markdown(input_string):\n",
    "    input_string = str(input_string)\n",
    "    result = re.sub(r'\\[.*?\\]', '', input_string)\n",
    "    result = ' '.join(result.split()) #replace multiple spaces with single space\n",
    "\n",
    "    return result"
   ]
  },
  {
   "cell_type": "code",
   "execution_count": 16,
   "id": "bb3fee02-269d-49d1-b21e-42479fe35e4a",
   "metadata": {},
   "outputs": [],
   "source": [
    "df.review = df.review.apply(remove_markdown)"
   ]
  },
  {
   "cell_type": "code",
   "execution_count": null,
   "id": "100cade9-cad8-4adf-aaa6-97832407d49d",
   "metadata": {},
   "outputs": [],
   "source": []
  },
  {
   "cell_type": "code",
   "execution_count": null,
   "id": "d6ed0edc-976e-495d-90e1-ce95f067c4e3",
   "metadata": {},
   "outputs": [],
   "source": []
  },
  {
   "cell_type": "code",
   "execution_count": null,
   "id": "7b84625c-31d0-436f-9dc0-43391d92aafe",
   "metadata": {},
   "outputs": [],
   "source": []
  },
  {
   "cell_type": "code",
   "execution_count": null,
   "id": "24b816d6-d0fa-42f0-9d9d-f9770da8cbae",
   "metadata": {},
   "outputs": [],
   "source": []
  },
  {
   "cell_type": "markdown",
   "id": "29cb2dbd-74e7-4bd0-a343-b2781f4a16e1",
   "metadata": {
    "tags": []
   },
   "source": [
    "## 2. Exclude holdout"
   ]
  },
  {
   "cell_type": "markdown",
   "id": "f08c4731-6362-4a2b-a02a-2659898083a9",
   "metadata": {},
   "source": [
    "### Exclude 5% of the most recent reviews for holdout set"
   ]
  },
  {
   "cell_type": "code",
   "execution_count": 17,
   "id": "652034ca-54ab-42aa-8100-516d8eee8b8d",
   "metadata": {},
   "outputs": [
    {
     "data": {
      "text/plain": [
       "<Axes: xlabel='timestamp_created', ylabel='Count'>"
      ]
     },
     "execution_count": 17,
     "metadata": {},
     "output_type": "execute_result"
    },
    {
     "data": {
      "image/png": "[encoded data removed]",
      "text/plain": [
       "<Figure size 1500x400 with 1 Axes>"
      ]
     },
     "metadata": {},
     "output_type": "display_data"
    }
   ],
   "source": [
    "plt.figure(figsize=(15,4))\n",
    "sns.histplot(x=df.timestamp_created)"
   ]
  },
  {
   "cell_type": "code",
   "execution_count": 18,
   "id": "11b4f3d3-5da9-4fc3-8734-3b63db797b85",
   "metadata": {},
   "outputs": [
    {
     "data": {
      "text/plain": [
       "Timestamp('2022-12-28 00:00:00')"
      ]
     },
     "execution_count": 18,
     "metadata": {},
     "output_type": "execute_result"
    }
   ],
   "source": [
    "# date of 95th quantile reviews\n",
    "df.timestamp_created.quantile(0.95)"
   ]
  },
  {
   "cell_type": "code",
   "execution_count": 19,
   "id": "dfc67b5c-a3c0-4d2a-9610-d66ab2098ed1",
   "metadata": {},
   "outputs": [
    {
     "name": "stdout",
     "output_type": "stream",
     "text": [
      "CPU times: total: 0 ns\n",
      "Wall time: 11 ms\n"
     ]
    },
    {
     "data": {
      "text/plain": [
       "6903      great game, you might have to update you GPU t...\n",
       "6904      They've fixed the game up pretty well, only a ...\n",
       "6905                 cuz i really wanna stay at your housee\n",
       "6906                 Finally! the game and story are great!\n",
       "6907                                                      ء\n",
       "                                ...                        \n",
       "559118    GAME WAJIB UNTUK BUDAK EA, SUNGKEM YANG MULIA ...\n",
       "559119    A lot of Change by FIFA afterall. Finally have...\n",
       "559120    This is the first time I played Ultimate Team ...\n",
       "559121    i loved the game so much, and i've been waitin...\n",
       "559122                       It's Fifa, nothing else to say\n",
       "Name: review, Length: 442006, dtype: object"
      ]
     },
     "execution_count": 19,
     "metadata": {},
     "output_type": "execute_result"
    }
   ],
   "source": [
    "%%time\n",
    "X = df['review']\n",
    "\n",
    "# X_holdout = X[df.timestamp_created >= df.timestamp_created.quantile(0.95)]\n",
    "X = X[df.timestamp_created < df.timestamp_created.quantile(0.95)]\n",
    "\n",
    "X"
   ]
  },
  {
   "cell_type": "code",
   "execution_count": 20,
   "id": "8b4b030a-4072-4004-950e-9b22607636c7",
   "metadata": {},
   "outputs": [],
   "source": [
    "y = df['voted_up'][df.timestamp_created < df.timestamp_created.quantile(0.95)]\n",
    "# y_holdout = df['voted_up'][df.timestamp_created >= df.timestamp_created.quantile(0.95)]"
   ]
  },
  {
   "cell_type": "markdown",
   "id": "b1389cbf-5bb1-43b7-b38b-774f6a912afa",
   "metadata": {
    "tags": []
   },
   "source": [
    "## 3. Pretrained models"
   ]
  },
  {
   "cell_type": "markdown",
   "id": "8a471f05-eab9-42a9-a3ed-faec80b45c7a",
   "metadata": {},
   "source": [
    "### Data"
   ]
  },
  {
   "cell_type": "code",
   "execution_count": 49,
   "id": "0ab8a05a-b5b0-4e80-865b-bdb41f6a3139",
   "metadata": {},
   "outputs": [],
   "source": [
    "X_train, _ , y_train, __ = train_test_split(X, y, stratify = y, train_size=0.1, random_state=14)\n",
    "del _,__"
   ]
  },
  {
   "cell_type": "markdown",
   "id": "b3b60ad4-d4d8-4ac5-8a8a-fbd73fcc67bf",
   "metadata": {
    "tags": []
   },
   "source": [
    "### VADER"
   ]
  },
  {
   "cell_type": "code",
   "execution_count": 99,
   "id": "ad1525b6-0327-4547-a6ba-629fd747f0a1",
   "metadata": {},
   "outputs": [
    {
     "name": "stderr",
     "output_type": "stream",
     "text": [
      "[nltk_data] Downloading package vader_lexicon to\n",
      "[nltk_data]     C:\\Users\\nguye_5159g\\AppData\\Roaming\\nltk_data...\n",
      "[nltk_data]   Package vader_lexicon is already up-to-date!\n"
     ]
    },
    {
     "data": {
      "text/plain": [
       "True"
      ]
     },
     "execution_count": 99,
     "metadata": {},
     "output_type": "execute_result"
    }
   ],
   "source": [
    "import nltk\n",
    "from nltk.sentiment import SentimentIntensityAnalyzer\n",
    "nltk.download('vader_lexicon')"
   ]
  },
  {
   "cell_type": "code",
   "execution_count": 100,
   "id": "6ed820e9-8246-47a1-86d0-6a3d7a525bfd",
   "metadata": {},
   "outputs": [],
   "source": [
    "SentAnalyzer = SentimentIntensityAnalyzer()"
   ]
  },
  {
   "cell_type": "markdown",
   "id": "598f7285-b966-4f2f-bbcb-ef2ea78169d6",
   "metadata": {},
   "source": [
    "Make prediction"
   ]
  },
  {
   "cell_type": "code",
   "execution_count": 101,
   "id": "760d11df-1d60-4889-a0ed-c93bcf926b20",
   "metadata": {},
   "outputs": [
    {
     "name": "stdout",
     "output_type": "stream",
     "text": [
      "CPU times: total: 2min 38s\n",
      "Wall time: 3min\n"
     ]
    }
   ],
   "source": [
    "%%time\n",
    "# CPU times: total: 2min 38s\n",
    "# Wall time: 3min\n",
    "result = X_train.astype(str).apply(SentAnalyzer.polarity_scores)"
   ]
  },
  {
   "cell_type": "code",
   "execution_count": 102,
   "id": "7fa22424-0095-401c-a547-9396b6860063",
   "metadata": {},
   "outputs": [
    {
     "name": "stdout",
     "output_type": "stream",
     "text": [
      "CPU times: total: 31.9 s\n",
      "Wall time: 36.4 s\n"
     ]
    },
    {
     "data": {
      "text/html": [
       "<div>\n",
       "<style scoped>\n",
       "    .dataframe tbody tr th:only-of-type {\n",
       "        vertical-align: middle;\n",
       "    }\n",
       "\n",
       "    .dataframe tbody tr th {\n",
       "        vertical-align: top;\n",
       "    }\n",
       "\n",
       "    .dataframe thead th {\n",
       "        text-align: right;\n",
       "    }\n",
       "</style>\n",
       "<table border=\"1\" class=\"dataframe\">\n",
       "  <thead>\n",
       "    <tr style=\"text-align: right;\">\n",
       "      <th></th>\n",
       "      <th>neg</th>\n",
       "      <th>neu</th>\n",
       "      <th>pos</th>\n",
       "      <th>compound</th>\n",
       "      <th>actual</th>\n",
       "      <th>review</th>\n",
       "    </tr>\n",
       "  </thead>\n",
       "  <tbody>\n",
       "    <tr>\n",
       "      <th>115951</th>\n",
       "      <td>0.0570</td>\n",
       "      <td>0.4200</td>\n",
       "      <td>0.5220</td>\n",
       "      <td>0.9617</td>\n",
       "      <td>1</td>\n",
       "      <td>REALLY REALLY good story. A few bugs but nothi...</td>\n",
       "    </tr>\n",
       "    <tr>\n",
       "      <th>163064</th>\n",
       "      <td>0.0710</td>\n",
       "      <td>0.6970</td>\n",
       "      <td>0.2320</td>\n",
       "      <td>0.9707</td>\n",
       "      <td>1</td>\n",
       "      <td>Just to be clear, I've not experienced many of...</td>\n",
       "    </tr>\n",
       "    <tr>\n",
       "      <th>510803</th>\n",
       "      <td>0.0000</td>\n",
       "      <td>0.3710</td>\n",
       "      <td>0.6290</td>\n",
       "      <td>0.6240</td>\n",
       "      <td>1</td>\n",
       "      <td>Thank you Kanye, very cool.</td>\n",
       "    </tr>\n",
       "    <tr>\n",
       "      <th>409945</th>\n",
       "      <td>0.0000</td>\n",
       "      <td>1.0000</td>\n",
       "      <td>0.0000</td>\n",
       "      <td>0.0000</td>\n",
       "      <td>0</td>\n",
       "      <td>FPS drops harder than the bass.</td>\n",
       "    </tr>\n",
       "    <tr>\n",
       "      <th>39614</th>\n",
       "      <td>0.0640</td>\n",
       "      <td>0.7630</td>\n",
       "      <td>0.1730</td>\n",
       "      <td>0.8055</td>\n",
       "      <td>1</td>\n",
       "      <td>The game is everything I had been waiting for ...</td>\n",
       "    </tr>\n",
       "    <tr>\n",
       "      <th>...</th>\n",
       "      <td>...</td>\n",
       "      <td>...</td>\n",
       "      <td>...</td>\n",
       "      <td>...</td>\n",
       "      <td>...</td>\n",
       "      <td>...</td>\n",
       "    </tr>\n",
       "    <tr>\n",
       "      <th>556977</th>\n",
       "      <td>0.2260</td>\n",
       "      <td>0.7110</td>\n",
       "      <td>0.0630</td>\n",
       "      <td>-0.9212</td>\n",
       "      <td>0</td>\n",
       "      <td>THIS IS THE WORST GAME ON ANY PLATFORM. WHAT A...</td>\n",
       "    </tr>\n",
       "    <tr>\n",
       "      <th>105996</th>\n",
       "      <td>0.0000</td>\n",
       "      <td>0.8980</td>\n",
       "      <td>0.1020</td>\n",
       "      <td>0.3612</td>\n",
       "      <td>0</td>\n",
       "      <td>CDPR \"It'll come out when it's ready\" CyberPun...</td>\n",
       "    </tr>\n",
       "    <tr>\n",
       "      <th>460745</th>\n",
       "      <td>0.0000</td>\n",
       "      <td>0.6610</td>\n",
       "      <td>0.3390</td>\n",
       "      <td>0.6249</td>\n",
       "      <td>1</td>\n",
       "      <td>That was a Masterpiece &amp; (MW22 &gt;&gt;&gt;&gt; MW19) - My...</td>\n",
       "    </tr>\n",
       "    <tr>\n",
       "      <th>279300</th>\n",
       "      <td>0.5560</td>\n",
       "      <td>0.0000</td>\n",
       "      <td>0.4440</td>\n",
       "      <td>-0.1779</td>\n",
       "      <td>0</td>\n",
       "      <td>lol fail</td>\n",
       "    </tr>\n",
       "    <tr>\n",
       "      <th>251645</th>\n",
       "      <td>0.0000</td>\n",
       "      <td>0.3230</td>\n",
       "      <td>0.6770</td>\n",
       "      <td>0.7425</td>\n",
       "      <td>1</td>\n",
       "      <td>Interesting gameplay and very fun.</td>\n",
       "    </tr>\n",
       "  </tbody>\n",
       "</table>\n",
       "<p>353604 rows × 6 columns</p>\n",
       "</div>"
      ],
      "text/plain": [
       "          neg    neu    pos  compound  actual  \\\n",
       "115951 0.0570 0.4200 0.5220    0.9617       1   \n",
       "163064 0.0710 0.6970 0.2320    0.9707       1   \n",
       "510803 0.0000 0.3710 0.6290    0.6240       1   \n",
       "409945 0.0000 1.0000 0.0000    0.0000       0   \n",
       "39614  0.0640 0.7630 0.1730    0.8055       1   \n",
       "...       ...    ...    ...       ...     ...   \n",
       "556977 0.2260 0.7110 0.0630   -0.9212       0   \n",
       "105996 0.0000 0.8980 0.1020    0.3612       0   \n",
       "460745 0.0000 0.6610 0.3390    0.6249       1   \n",
       "279300 0.5560 0.0000 0.4440   -0.1779       0   \n",
       "251645 0.0000 0.3230 0.6770    0.7425       1   \n",
       "\n",
       "                                                   review  \n",
       "115951  REALLY REALLY good story. A few bugs but nothi...  \n",
       "163064  Just to be clear, I've not experienced many of...  \n",
       "510803                        Thank you Kanye, very cool.  \n",
       "409945                    FPS drops harder than the bass.  \n",
       "39614   The game is everything I had been waiting for ...  \n",
       "...                                                   ...  \n",
       "556977  THIS IS THE WORST GAME ON ANY PLATFORM. WHAT A...  \n",
       "105996  CDPR \"It'll come out when it's ready\" CyberPun...  \n",
       "460745  That was a Masterpiece & (MW22 >>>> MW19) - My...  \n",
       "279300                                           lol fail  \n",
       "251645                 Interesting gameplay and very fun.  \n",
       "\n",
       "[353604 rows x 6 columns]"
      ]
     },
     "execution_count": 102,
     "metadata": {},
     "output_type": "execute_result"
    }
   ],
   "source": [
    "%%time\n",
    "df_result = result.apply(lambda x: pd.Series([x['neg'], x['neu'], x['pos'], x['compound']]))\n",
    "df_result.columns = ['neg', 'neu', 'pos', 'compound']\n",
    "df_result['actual'] = y_train.map({True: 1, False: 0})\n",
    "df_result['review'] = X_train\n",
    "df_result"
   ]
  },
  {
   "cell_type": "markdown",
   "id": "fe3f8dd8-210e-4f4e-b957-6883e9178d7d",
   "metadata": {},
   "source": [
    "Convert compound score (-1, 1) to (0, 1)"
   ]
  },
  {
   "cell_type": "code",
   "execution_count": 104,
   "id": "9564b9f9-039f-4dbe-8847-05b9ac2a74e6",
   "metadata": {},
   "outputs": [],
   "source": [
    "y_proba = result.apply(lambda x: (x['compound']+1)/2)"
   ]
  },
  {
   "cell_type": "code",
   "execution_count": 105,
   "id": "1b174c98-0695-4884-aa04-caba5309bd55",
   "metadata": {},
   "outputs": [
    {
     "data": {
      "text/plain": [
       "<Axes: xlabel='review', ylabel='Count'>"
      ]
     },
     "execution_count": 105,
     "metadata": {},
     "output_type": "execute_result"
    },
    {
     "data": {
      "image/png": "[encoded data removed]",
      "text/plain": [
       "<Figure size 640x480 with 1 Axes>"
      ]
     },
     "metadata": {},
     "output_type": "display_data"
    }
   ],
   "source": [
    "sns.histplot(x=y_proba)"
   ]
  },
  {
   "cell_type": "code",
   "execution_count": 61,
   "id": "bfce0e88-3363-4ec0-82ea-c96489f8113b",
   "metadata": {},
   "outputs": [],
   "source": [
    "def cf_report(y_actual, y_pred):\n",
    "    print(classification_report(y_actual, y_pred))\n",
    "\n",
    "    labels = ['Negative', 'Positive']\n",
    "\n",
    "    sns.heatmap(confusion_matrix(y_actual, y_pred), annot=True,\n",
    "                cbar=False, xticklabels=labels, yticklabels=labels, fmt='.0f')\n",
    "    plt.ylabel('Actual'), plt.xlabel('Predicted')\n",
    "    plt.tight_layout()\n",
    "    plt.show()"
   ]
  },
  {
   "cell_type": "code",
   "execution_count": 107,
   "id": "a89d6e8a-1a97-485f-80d4-58ba668d2f6e",
   "metadata": {},
   "outputs": [
    {
     "name": "stdout",
     "output_type": "stream",
     "text": [
      "              precision    recall  f1-score   support\n",
      "\n",
      "       False       0.56      0.65      0.60    120841\n",
      "        True       0.80      0.73      0.77    232763\n",
      "\n",
      "    accuracy                           0.70    353604\n",
      "   macro avg       0.68      0.69      0.68    353604\n",
      "weighted avg       0.72      0.70      0.71    353604\n",
      "\n"
     ]
    },
    {
     "data": {
      "image/png": "[encoded data removed]",
      "text/plain": [
       "<Figure size 640x480 with 1 Axes>"
      ]
     },
     "metadata": {},
     "output_type": "display_data"
    }
   ],
   "source": [
    "threshold = 0.5\n",
    "yhat = y_proba>threshold\n",
    "\n",
    "cf_report(y_train, yhat)"
   ]
  },
  {
   "cell_type": "code",
   "execution_count": 108,
   "id": "d3cf70d3-8b86-4403-ae43-9f129e127905",
   "metadata": {},
   "outputs": [
    {
     "data": {
      "image/png": "[encoded data removed]",
      "text/plain": [
       "<Figure size 1000x700 with 1 Axes>"
      ]
     },
     "metadata": {},
     "output_type": "display_data"
    }
   ],
   "source": [
    "# function to plot precision/recall curve\n",
    "def pre_rec_curve(y_actual, y_proba, threshold=0.5):\n",
    "    precisions, recalls, thresholds = precision_recall_curve(y_actual, y_proba)\n",
    "    thresholds = np.insert(thresholds, 0, 0)\n",
    "    F1_score = 2*precisions*recalls/(precisions+recalls)\n",
    "\n",
    "    # Plot values of precisions, recalls, and thresholds\n",
    "    plt.figure(figsize=(10,7))\n",
    "    plt.plot(thresholds, precisions, 'b--', label='precision')\n",
    "    plt.plot(thresholds, recalls, 'g--', label = 'recall')\n",
    "    plt.plot(thresholds, F1_score, 'r--', label = 'f1 score')\n",
    "\n",
    "    plt.xlabel('Threshold')\n",
    "    plt.legend(loc='upper left')\n",
    "    # plt.ylim([0.6,1])\n",
    "    plt.axvline(threshold)\n",
    "    plt.show()\n",
    "\n",
    "pre_rec_curve(y_train, y_proba, threshold=0)"
   ]
  },
  {
   "cell_type": "markdown",
   "id": "133b9751-cf7c-41ba-b2bf-e6d8f794746d",
   "metadata": {},
   "source": [
    "### ROBERTA"
   ]
  },
  {
   "cell_type": "code",
   "execution_count": 23,
   "id": "c0e73add-c2dd-4284-97bb-2a2662c182b6",
   "metadata": {
    "papermill": {
     "duration": 6.924232,
     "end_time": "2022-05-05T13:17:07.531880",
     "exception": false,
     "start_time": "2022-05-05T13:17:00.607648",
     "status": "completed"
    },
    "tags": []
   },
   "outputs": [],
   "source": [
    "from transformers import AutoTokenizer\n",
    "from transformers import AutoModelForSequenceClassification\n",
    "from scipy.special import softmax"
   ]
  },
  {
   "cell_type": "code",
   "execution_count": 44,
   "id": "3f13260e-52c4-4927-874b-3a60c57b10c3",
   "metadata": {
    "papermill": {
     "duration": 32.50923,
     "end_time": "2022-05-05T13:17:40.093749",
     "exception": false,
     "start_time": "2022-05-05T13:17:07.584519",
     "status": "completed"
    },
    "tags": []
   },
   "outputs": [],
   "source": [
    "MODEL = f\"cardiffnlp/twitter-roberta-base-sentiment\"\n",
    "tokenizer = AutoTokenizer.from_pretrained(MODEL)\n",
    "model = AutoModelForSequenceClassification.from_pretrained(MODEL)"
   ]
  },
  {
   "cell_type": "code",
   "execution_count": 35,
   "id": "579d1722-c1e1-4791-ab1b-10fa2dfd1760",
   "metadata": {},
   "outputs": [],
   "source": [
    "example_good = 'I love this game'"
   ]
  },
  {
   "cell_type": "code",
   "execution_count": 36,
   "id": "94c68642-1c47-4b11-93af-6b634c90df1d",
   "metadata": {
    "papermill": {
     "duration": 0.305753,
     "end_time": "2022-05-05T13:17:40.583569",
     "exception": false,
     "start_time": "2022-05-05T13:17:40.277816",
     "status": "completed"
    },
    "tags": []
   },
   "outputs": [
    {
     "name": "stdout",
     "output_type": "stream",
     "text": [
      "{'roberta_neg': 0.0038582087, 'roberta_neu': 0.0079186065, 'roberta_pos': 0.98822314}\n"
     ]
    }
   ],
   "source": [
    "# Run for Roberta Model\n",
    "encoded_text = tokenizer(example_good, return_tensors='pt')\n",
    "output = model(**encoded_text)\n",
    "scores = output[0][0].detach().numpy()\n",
    "scores = softmax(scores)\n",
    "scores_dict = {\n",
    "    'roberta_neg' : scores[0],\n",
    "    'roberta_neu' : scores[1],\n",
    "    'roberta_pos' : scores[2]\n",
    "}\n",
    "print(scores_dict)"
   ]
  },
  {
   "cell_type": "code",
   "execution_count": 56,
   "id": "13438eb2-fb67-4ec4-a7cb-820781b9eb8e",
   "metadata": {
    "papermill": {
     "duration": 0.071336,
     "end_time": "2022-05-05T13:17:40.718066",
     "exception": false,
     "start_time": "2022-05-05T13:17:40.646730",
     "status": "completed"
    },
    "tags": []
   },
   "outputs": [],
   "source": [
    "def polarity_scores_roberta(example):\n",
    "    encoded_text = tokenizer(example, return_tensors='pt', max_length=50, truncation=True)\n",
    "    output = model(**encoded_text)\n",
    "    scores = output[0][0].detach().numpy()\n",
    "    scores = softmax(scores)\n",
    "    scores_dict = {\n",
    "        'roberta_neg' : scores[0],\n",
    "        'roberta_neu' : scores[1],\n",
    "        'roberta_pos' : scores[2]\n",
    "    }\n",
    "    return scores_dict"
   ]
  },
  {
   "cell_type": "code",
   "execution_count": 64,
   "id": "955fbcbe-a4e5-448d-b19b-3abfebe198e0",
   "metadata": {},
   "outputs": [
    {
     "name": "stdout",
     "output_type": "stream",
     "text": [
      "CPU times: total: 29min 6s\n",
      "Wall time: 6min 35s\n"
     ]
    }
   ],
   "source": [
    "%%time\n",
    "result = X_train[:10000].astype(str).apply(polarity_scores_roberta)"
   ]
  },
  {
   "cell_type": "code",
   "execution_count": 65,
   "id": "afe843ef-0327-435c-a284-0518ea84ad65",
   "metadata": {},
   "outputs": [
    {
     "data": {
      "text/html": [
       "<div>\n",
       "<style scoped>\n",
       "    .dataframe tbody tr th:only-of-type {\n",
       "        vertical-align: middle;\n",
       "    }\n",
       "\n",
       "    .dataframe tbody tr th {\n",
       "        vertical-align: top;\n",
       "    }\n",
       "\n",
       "    .dataframe thead th {\n",
       "        text-align: right;\n",
       "    }\n",
       "</style>\n",
       "<table border=\"1\" class=\"dataframe\">\n",
       "  <thead>\n",
       "    <tr style=\"text-align: right;\">\n",
       "      <th></th>\n",
       "      <th>neg</th>\n",
       "      <th>neu</th>\n",
       "      <th>pos</th>\n",
       "      <th>actual</th>\n",
       "      <th>review</th>\n",
       "    </tr>\n",
       "  </thead>\n",
       "  <tbody>\n",
       "    <tr>\n",
       "      <th>474761</th>\n",
       "      <td>0.0083</td>\n",
       "      <td>0.1059</td>\n",
       "      <td>0.8859</td>\n",
       "      <td>1</td>\n",
       "      <td>Initial rollout and already the best CoD. It l...</td>\n",
       "    </tr>\n",
       "    <tr>\n",
       "      <th>475647</th>\n",
       "      <td>0.0016</td>\n",
       "      <td>0.1040</td>\n",
       "      <td>0.8944</td>\n",
       "      <td>0</td>\n",
       "      <td>Logging into online services :)</td>\n",
       "    </tr>\n",
       "    <tr>\n",
       "      <th>204613</th>\n",
       "      <td>0.0044</td>\n",
       "      <td>0.1133</td>\n",
       "      <td>0.8822</td>\n",
       "      <td>1</td>\n",
       "      <td>100% worth buying just make sure you have good...</td>\n",
       "    </tr>\n",
       "    <tr>\n",
       "      <th>438891</th>\n",
       "      <td>0.1304</td>\n",
       "      <td>0.2429</td>\n",
       "      <td>0.6267</td>\n",
       "      <td>1</td>\n",
       "      <td>Maps are trash, and the new leveling-up is fun...</td>\n",
       "    </tr>\n",
       "    <tr>\n",
       "      <th>32312</th>\n",
       "      <td>0.0017</td>\n",
       "      <td>0.0296</td>\n",
       "      <td>0.9687</td>\n",
       "      <td>1</td>\n",
       "      <td>rlly good looking game. even on the rtx 2060 1...</td>\n",
       "    </tr>\n",
       "    <tr>\n",
       "      <th>...</th>\n",
       "      <td>...</td>\n",
       "      <td>...</td>\n",
       "      <td>...</td>\n",
       "      <td>...</td>\n",
       "      <td>...</td>\n",
       "    </tr>\n",
       "    <tr>\n",
       "      <th>490294</th>\n",
       "      <td>0.0564</td>\n",
       "      <td>0.2266</td>\n",
       "      <td>0.7170</td>\n",
       "      <td>0</td>\n",
       "      <td>Pointless game -Graphics: 7/10 Fallout 4 with ...</td>\n",
       "    </tr>\n",
       "    <tr>\n",
       "      <th>98617</th>\n",
       "      <td>0.5370</td>\n",
       "      <td>0.4361</td>\n",
       "      <td>0.0269</td>\n",
       "      <td>1</td>\n",
       "      <td>PC version or don't buy it</td>\n",
       "    </tr>\n",
       "    <tr>\n",
       "      <th>85951</th>\n",
       "      <td>0.0044</td>\n",
       "      <td>0.0209</td>\n",
       "      <td>0.9747</td>\n",
       "      <td>1</td>\n",
       "      <td>Great game if you've got the hardware for it. ...</td>\n",
       "    </tr>\n",
       "    <tr>\n",
       "      <th>490766</th>\n",
       "      <td>0.0432</td>\n",
       "      <td>0.5103</td>\n",
       "      <td>0.4465</td>\n",
       "      <td>1</td>\n",
       "      <td>gud game, gud laif</td>\n",
       "    </tr>\n",
       "    <tr>\n",
       "      <th>10824</th>\n",
       "      <td>0.8076</td>\n",
       "      <td>0.1460</td>\n",
       "      <td>0.0464</td>\n",
       "      <td>0</td>\n",
       "      <td>combat and aiming are terrible. game is a joke...</td>\n",
       "    </tr>\n",
       "  </tbody>\n",
       "</table>\n",
       "<p>10000 rows × 5 columns</p>\n",
       "</div>"
      ],
      "text/plain": [
       "          neg    neu    pos  actual  \\\n",
       "474761 0.0083 0.1059 0.8859       1   \n",
       "475647 0.0016 0.1040 0.8944       0   \n",
       "204613 0.0044 0.1133 0.8822       1   \n",
       "438891 0.1304 0.2429 0.6267       1   \n",
       "32312  0.0017 0.0296 0.9687       1   \n",
       "...       ...    ...    ...     ...   \n",
       "490294 0.0564 0.2266 0.7170       0   \n",
       "98617  0.5370 0.4361 0.0269       1   \n",
       "85951  0.0044 0.0209 0.9747       1   \n",
       "490766 0.0432 0.5103 0.4465       1   \n",
       "10824  0.8076 0.1460 0.0464       0   \n",
       "\n",
       "                                                   review  \n",
       "474761  Initial rollout and already the best CoD. It l...  \n",
       "475647                    Logging into online services :)  \n",
       "204613  100% worth buying just make sure you have good...  \n",
       "438891  Maps are trash, and the new leveling-up is fun...  \n",
       "32312   rlly good looking game. even on the rtx 2060 1...  \n",
       "...                                                   ...  \n",
       "490294  Pointless game -Graphics: 7/10 Fallout 4 with ...  \n",
       "98617                          PC version or don't buy it  \n",
       "85951   Great game if you've got the hardware for it. ...  \n",
       "490766                                 gud game, gud laif  \n",
       "10824   combat and aiming are terrible. game is a joke...  \n",
       "\n",
       "[10000 rows x 5 columns]"
      ]
     },
     "execution_count": 65,
     "metadata": {},
     "output_type": "execute_result"
    }
   ],
   "source": [
    "df_result = result.apply(lambda x: pd.Series([x['roberta_neg'], x['roberta_neu'], x['roberta_pos']]))\n",
    "df_result.columns = ['neg', 'neu', 'pos']\n",
    "df_result['actual'] = y_train.map({True: 1, False: 0})\n",
    "df_result['review'] = X_train\n",
    "df_result"
   ]
  },
  {
   "cell_type": "code",
   "execution_count": 74,
   "id": "5e81cb1c-7fc1-4f37-8bc0-eec071abe523",
   "metadata": {},
   "outputs": [
    {
     "data": {
      "text/html": [
       "<div>\n",
       "<style scoped>\n",
       "    .dataframe tbody tr th:only-of-type {\n",
       "        vertical-align: middle;\n",
       "    }\n",
       "\n",
       "    .dataframe tbody tr th {\n",
       "        vertical-align: top;\n",
       "    }\n",
       "\n",
       "    .dataframe thead th {\n",
       "        text-align: right;\n",
       "    }\n",
       "</style>\n",
       "<table border=\"1\" class=\"dataframe\">\n",
       "  <thead>\n",
       "    <tr style=\"text-align: right;\">\n",
       "      <th></th>\n",
       "      <th>neg</th>\n",
       "      <th>neu</th>\n",
       "      <th>pos</th>\n",
       "      <th>actual</th>\n",
       "      <th>review</th>\n",
       "    </tr>\n",
       "  </thead>\n",
       "  <tbody>\n",
       "    <tr>\n",
       "      <th>474761</th>\n",
       "      <td>0.0083</td>\n",
       "      <td>0.1059</td>\n",
       "      <td>0.8859</td>\n",
       "      <td>1</td>\n",
       "      <td>Initial rollout and already the best CoD. It l...</td>\n",
       "    </tr>\n",
       "    <tr>\n",
       "      <th>204613</th>\n",
       "      <td>0.0044</td>\n",
       "      <td>0.1133</td>\n",
       "      <td>0.8822</td>\n",
       "      <td>1</td>\n",
       "      <td>100% worth buying just make sure you have good...</td>\n",
       "    </tr>\n",
       "    <tr>\n",
       "      <th>438891</th>\n",
       "      <td>0.1304</td>\n",
       "      <td>0.2429</td>\n",
       "      <td>0.6267</td>\n",
       "      <td>1</td>\n",
       "      <td>Maps are trash, and the new leveling-up is fun...</td>\n",
       "    </tr>\n",
       "    <tr>\n",
       "      <th>32312</th>\n",
       "      <td>0.0017</td>\n",
       "      <td>0.0296</td>\n",
       "      <td>0.9687</td>\n",
       "      <td>1</td>\n",
       "      <td>rlly good looking game. even on the rtx 2060 1...</td>\n",
       "    </tr>\n",
       "    <tr>\n",
       "      <th>531476</th>\n",
       "      <td>0.2001</td>\n",
       "      <td>0.6701</td>\n",
       "      <td>0.1298</td>\n",
       "      <td>1</td>\n",
       "      <td>rgwg</td>\n",
       "    </tr>\n",
       "    <tr>\n",
       "      <th>481680</th>\n",
       "      <td>0.1063</td>\n",
       "      <td>0.6959</td>\n",
       "      <td>0.1978</td>\n",
       "      <td>1</td>\n",
       "      <td>ok. but worth</td>\n",
       "    </tr>\n",
       "    <tr>\n",
       "      <th>146962</th>\n",
       "      <td>0.0040</td>\n",
       "      <td>0.0203</td>\n",
       "      <td>0.9757</td>\n",
       "      <td>1</td>\n",
       "      <td>Really enjoyed the spectacle. Lot of love pour...</td>\n",
       "    </tr>\n",
       "    <tr>\n",
       "      <th>419049</th>\n",
       "      <td>0.1211</td>\n",
       "      <td>0.7797</td>\n",
       "      <td>0.0992</td>\n",
       "      <td>1</td>\n",
       "      <td>1 &gt; 2</td>\n",
       "    </tr>\n",
       "    <tr>\n",
       "      <th>477785</th>\n",
       "      <td>0.0026</td>\n",
       "      <td>0.0299</td>\n",
       "      <td>0.9675</td>\n",
       "      <td>1</td>\n",
       "      <td>First crashhhh GG, its oke cuz this is masterp...</td>\n",
       "    </tr>\n",
       "    <tr>\n",
       "      <th>452906</th>\n",
       "      <td>0.0252</td>\n",
       "      <td>0.6857</td>\n",
       "      <td>0.2891</td>\n",
       "      <td>1</td>\n",
       "      <td>Alright game. The usual COD.</td>\n",
       "    </tr>\n",
       "    <tr>\n",
       "      <th>459211</th>\n",
       "      <td>0.0649</td>\n",
       "      <td>0.0825</td>\n",
       "      <td>0.8526</td>\n",
       "      <td>1</td>\n",
       "      <td>this game has brought the negativty in me and ...</td>\n",
       "    </tr>\n",
       "    <tr>\n",
       "      <th>320735</th>\n",
       "      <td>0.0055</td>\n",
       "      <td>0.0179</td>\n",
       "      <td>0.9766</td>\n",
       "      <td>1</td>\n",
       "      <td>love it!!</td>\n",
       "    </tr>\n",
       "    <tr>\n",
       "      <th>258453</th>\n",
       "      <td>0.0012</td>\n",
       "      <td>0.0104</td>\n",
       "      <td>0.9885</td>\n",
       "      <td>1</td>\n",
       "      <td>It's actually good and fun now. It's getting c...</td>\n",
       "    </tr>\n",
       "    <tr>\n",
       "      <th>157113</th>\n",
       "      <td>0.1898</td>\n",
       "      <td>0.7391</td>\n",
       "      <td>0.0711</td>\n",
       "      <td>1</td>\n",
       "      <td>Das Spiel ist dermaßen immersiv, dass man gar ...</td>\n",
       "    </tr>\n",
       "    <tr>\n",
       "      <th>86166</th>\n",
       "      <td>0.0071</td>\n",
       "      <td>0.0584</td>\n",
       "      <td>0.9345</td>\n",
       "      <td>1</td>\n",
       "      <td>This game has come a long way from launch, and...</td>\n",
       "    </tr>\n",
       "    <tr>\n",
       "      <th>445082</th>\n",
       "      <td>0.9610</td>\n",
       "      <td>0.0349</td>\n",
       "      <td>0.0041</td>\n",
       "      <td>1</td>\n",
       "      <td>i like. pls no more sbmm my butthole cant take it</td>\n",
       "    </tr>\n",
       "    <tr>\n",
       "      <th>33481</th>\n",
       "      <td>0.4442</td>\n",
       "      <td>0.5017</td>\n",
       "      <td>0.0541</td>\n",
       "      <td>1</td>\n",
       "      <td>there's only 2 dudes you can have sex with, smh</td>\n",
       "    </tr>\n",
       "    <tr>\n",
       "      <th>253732</th>\n",
       "      <td>0.1707</td>\n",
       "      <td>0.7576</td>\n",
       "      <td>0.0717</td>\n",
       "      <td>1</td>\n",
       "      <td>Игра очень понравилась.</td>\n",
       "    </tr>\n",
       "    <tr>\n",
       "      <th>487319</th>\n",
       "      <td>0.0034</td>\n",
       "      <td>0.0286</td>\n",
       "      <td>0.9680</td>\n",
       "      <td>1</td>\n",
       "      <td>Great Game with the new updates</td>\n",
       "    </tr>\n",
       "    <tr>\n",
       "      <th>78507</th>\n",
       "      <td>0.1769</td>\n",
       "      <td>0.6367</td>\n",
       "      <td>0.1864</td>\n",
       "      <td>1</td>\n",
       "      <td>You can practically smell the city</td>\n",
       "    </tr>\n",
       "  </tbody>\n",
       "</table>\n",
       "</div>"
      ],
      "text/plain": [
       "          neg    neu    pos  actual  \\\n",
       "474761 0.0083 0.1059 0.8859       1   \n",
       "204613 0.0044 0.1133 0.8822       1   \n",
       "438891 0.1304 0.2429 0.6267       1   \n",
       "32312  0.0017 0.0296 0.9687       1   \n",
       "531476 0.2001 0.6701 0.1298       1   \n",
       "481680 0.1063 0.6959 0.1978       1   \n",
       "146962 0.0040 0.0203 0.9757       1   \n",
       "419049 0.1211 0.7797 0.0992       1   \n",
       "477785 0.0026 0.0299 0.9675       1   \n",
       "452906 0.0252 0.6857 0.2891       1   \n",
       "459211 0.0649 0.0825 0.8526       1   \n",
       "320735 0.0055 0.0179 0.9766       1   \n",
       "258453 0.0012 0.0104 0.9885       1   \n",
       "157113 0.1898 0.7391 0.0711       1   \n",
       "86166  0.0071 0.0584 0.9345       1   \n",
       "445082 0.9610 0.0349 0.0041       1   \n",
       "33481  0.4442 0.5017 0.0541       1   \n",
       "253732 0.1707 0.7576 0.0717       1   \n",
       "487319 0.0034 0.0286 0.9680       1   \n",
       "78507  0.1769 0.6367 0.1864       1   \n",
       "\n",
       "                                                   review  \n",
       "474761  Initial rollout and already the best CoD. It l...  \n",
       "204613  100% worth buying just make sure you have good...  \n",
       "438891  Maps are trash, and the new leveling-up is fun...  \n",
       "32312   rlly good looking game. even on the rtx 2060 1...  \n",
       "531476                                               rgwg  \n",
       "481680                                      ok. but worth  \n",
       "146962  Really enjoyed the spectacle. Lot of love pour...  \n",
       "419049                                              1 > 2  \n",
       "477785  First crashhhh GG, its oke cuz this is masterp...  \n",
       "452906                       Alright game. The usual COD.  \n",
       "459211  this game has brought the negativty in me and ...  \n",
       "320735                                          love it!!  \n",
       "258453  It's actually good and fun now. It's getting c...  \n",
       "157113  Das Spiel ist dermaßen immersiv, dass man gar ...  \n",
       "86166   This game has come a long way from launch, and...  \n",
       "445082  i like. pls no more sbmm my butthole cant take it  \n",
       "33481     there's only 2 dudes you can have sex with, smh  \n",
       "253732                            Игра очень понравилась.  \n",
       "487319                    Great Game with the new updates  \n",
       "78507                  You can practically smell the city  "
      ]
     },
     "execution_count": 74,
     "metadata": {},
     "output_type": "execute_result"
    }
   ],
   "source": [
    "df_result.query('actual==1').head(20)"
   ]
  },
  {
   "cell_type": "code",
   "execution_count": 75,
   "id": "84969db3-187b-4b55-bbb1-f44a454de4c1",
   "metadata": {},
   "outputs": [
    {
     "name": "stdout",
     "output_type": "stream",
     "text": [
      "              precision    recall  f1-score   support\n",
      "\n",
      "       False       0.63      0.86      0.73      3366\n",
      "        True       0.91      0.75      0.82      6634\n",
      "\n",
      "    accuracy                           0.79     10000\n",
      "   macro avg       0.77      0.80      0.78     10000\n",
      "weighted avg       0.82      0.79      0.79     10000\n",
      "\n"
     ]
    },
    {
     "data": {
      "image/png": "[encoded data removed]",
      "text/plain": [
       "<Figure size 640x480 with 1 Axes>"
      ]
     },
     "metadata": {},
     "output_type": "display_data"
    }
   ],
   "source": [
    "yhat = df_result.pos>df_result.neg\n",
    "cf_report(y_train[:10000], yhat)"
   ]
  }
 ],
 "metadata": {
  "kernelspec": {
   "display_name": "Python 3 (ipykernel)",
   "language": "python",
   "name": "python3"
  },
  "language_info": {
   "codemirror_mode": {
    "name": "ipython",
    "version": 3
   },
   "file_extension": ".py",
   "mimetype": "text/x-python",
   "name": "python",
   "nbconvert_exporter": "python",
   "pygments_lexer": "ipython3",
   "version": "3.9.15"
  }
 },
 "nbformat": 4,
 "nbformat_minor": 5
}
