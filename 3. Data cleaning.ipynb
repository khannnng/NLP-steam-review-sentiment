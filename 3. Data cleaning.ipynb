{
 "cells": [
  {
   "cell_type": "markdown",
   "id": "b92be1cd-2afd-4368-bc76-8630a201e735",
   "metadata": {},
   "source": [
    "# 3.0 Clean review text data"
   ]
  },
  {
   "cell_type": "markdown",
   "id": "a2b929bb-ac14-4549-bdd8-5ba40578fa44",
   "metadata": {
    "tags": []
   },
   "source": [
    "## 0. Import library"
   ]
  },
  {
   "cell_type": "code",
   "execution_count": 1,
   "id": "0dacec2d-2a7f-4517-a073-4b5a55c0f2aa",
   "metadata": {},
   "outputs": [],
   "source": [
    "# Basic\n",
    "import pandas as pd\n",
    "import numpy as np\n",
    "import seaborn as sns\n",
    "import matplotlib.pyplot as plt\n",
    "import time\n",
    "\n",
    "import warnings;\n",
    "warnings.filterwarnings('ignore')"
   ]
  },
  {
   "cell_type": "code",
   "execution_count": 2,
   "id": "d9605340-af8b-4044-af0e-ffff389744bc",
   "metadata": {},
   "outputs": [],
   "source": [
    "# nlp tools\n",
    "import string\n",
    "import nltk\n",
    "#nltk.download('stopwords')\n",
    "from nltk.stem import WordNetLemmatizer\n",
    "#nltk.download('wordnet')\n",
    "#nltk.download('omw-1.4')\n",
    "from nltk.corpus import stopwords\n",
    "import re\n",
    "\n",
    "from wordcloud import WordCloud\n",
    "\n",
    "from sklearn.feature_extraction.text import CountVectorizer, TfidfVectorizer\n"
   ]
  },
  {
   "cell_type": "markdown",
   "id": "d1938e5e-474b-43f6-9539-4a1ca6c55adf",
   "metadata": {
    "tags": []
   },
   "source": [
    "## 1. Import data and sampling"
   ]
  },
  {
   "cell_type": "code",
   "execution_count": 3,
   "id": "1c025a5e-92b0-4ce2-bb15-d8e2b30e5ed7",
   "metadata": {},
   "outputs": [],
   "source": [
    "df = pd.read_csv('scraped_data_559k.csv')"
   ]
  },
  {
   "cell_type": "code",
   "execution_count": 4,
   "id": "6e2bcdda-37ef-4f77-bfb8-65f49c01759d",
   "metadata": {},
   "outputs": [
    {
     "data": {
      "text/html": [
       "<div>\n",
       "<style scoped>\n",
       "    .dataframe tbody tr th:only-of-type {\n",
       "        vertical-align: middle;\n",
       "    }\n",
       "\n",
       "    .dataframe tbody tr th {\n",
       "        vertical-align: top;\n",
       "    }\n",
       "\n",
       "    .dataframe thead th {\n",
       "        text-align: right;\n",
       "    }\n",
       "</style>\n",
       "<table border=\"1\" class=\"dataframe\">\n",
       "  <thead>\n",
       "    <tr style=\"text-align: right;\">\n",
       "      <th></th>\n",
       "      <th>recommendationid</th>\n",
       "      <th>review</th>\n",
       "      <th>timestamp_created</th>\n",
       "      <th>voted_up</th>\n",
       "    </tr>\n",
       "  </thead>\n",
       "  <tbody>\n",
       "    <tr>\n",
       "      <th>0</th>\n",
       "      <td>132354840</td>\n",
       "      <td>Loe, love, LOVE this game.\\n\\nI purchased it w...</td>\n",
       "      <td>1675747403</td>\n",
       "      <td>True</td>\n",
       "    </tr>\n",
       "    <tr>\n",
       "      <th>1</th>\n",
       "      <td>132354525</td>\n",
       "      <td>shouldve been more</td>\n",
       "      <td>1675746707</td>\n",
       "      <td>False</td>\n",
       "    </tr>\n",
       "    <tr>\n",
       "      <th>2</th>\n",
       "      <td>132354176</td>\n",
       "      <td>It's fun</td>\n",
       "      <td>1675745970</td>\n",
       "      <td>True</td>\n",
       "    </tr>\n",
       "    <tr>\n",
       "      <th>3</th>\n",
       "      <td>132353890</td>\n",
       "      <td>full gen z game.</td>\n",
       "      <td>1675745336</td>\n",
       "      <td>False</td>\n",
       "    </tr>\n",
       "    <tr>\n",
       "      <th>4</th>\n",
       "      <td>132353500</td>\n",
       "      <td>it good that is all</td>\n",
       "      <td>1675744599</td>\n",
       "      <td>True</td>\n",
       "    </tr>\n",
       "  </tbody>\n",
       "</table>\n",
       "</div>"
      ],
      "text/plain": [
       "   recommendationid                                             review  \\\n",
       "0         132354840  Loe, love, LOVE this game.\\n\\nI purchased it w...   \n",
       "1         132354525                                 shouldve been more   \n",
       "2         132354176                                           It's fun   \n",
       "3         132353890                                   full gen z game.   \n",
       "4         132353500                                it good that is all   \n",
       "\n",
       "   timestamp_created  voted_up  \n",
       "0         1675747403      True  \n",
       "1         1675746707     False  \n",
       "2         1675745970      True  \n",
       "3         1675745336     False  \n",
       "4         1675744599      True  "
      ]
     },
     "execution_count": 4,
     "metadata": {},
     "output_type": "execute_result"
    }
   ],
   "source": [
    "df.head()"
   ]
  },
  {
   "cell_type": "code",
   "execution_count": 5,
   "id": "99e9ae6c-3f70-4cd0-a9f2-5d25d4ccec9e",
   "metadata": {},
   "outputs": [
    {
     "name": "stdout",
     "output_type": "stream",
     "text": [
      "<class 'pandas.core.frame.DataFrame'>\n",
      "RangeIndex: 559123 entries, 0 to 559122\n",
      "Data columns (total 4 columns):\n",
      " #   Column             Non-Null Count   Dtype \n",
      "---  ------             --------------   ----- \n",
      " 0   recommendationid   559123 non-null  int64 \n",
      " 1   review             557447 non-null  object\n",
      " 2   timestamp_created  559123 non-null  int64 \n",
      " 3   voted_up           559123 non-null  bool  \n",
      "dtypes: bool(1), int64(2), object(1)\n",
      "memory usage: 13.3+ MB\n"
     ]
    }
   ],
   "source": [
    "df.info()"
   ]
  },
  {
   "cell_type": "markdown",
   "id": "ba7dd51c-fccc-44d4-b26e-5317ce18d520",
   "metadata": {
    "tags": []
   },
   "source": [
    "## 3. Data Cleaning"
   ]
  },
  {
   "cell_type": "markdown",
   "id": "a727def1-8958-4911-8e98-d76f45395f84",
   "metadata": {
    "tags": []
   },
   "source": [
    "### 3.1 Remove nulls and duplicates"
   ]
  },
  {
   "cell_type": "markdown",
   "id": "11bf4603-52b7-46f1-ba41-cd7a1c7057ef",
   "metadata": {},
   "source": [
    "**Drop nulls**"
   ]
  },
  {
   "cell_type": "code",
   "execution_count": 6,
   "id": "c523167c-e965-4b06-84f8-9ca1c4c66c07",
   "metadata": {},
   "outputs": [
    {
     "data": {
      "text/plain": [
       "False    557447\n",
       "True       1676\n",
       "Name: review, dtype: int64"
      ]
     },
     "execution_count": 6,
     "metadata": {},
     "output_type": "execute_result"
    }
   ],
   "source": [
    "df['review'].isna().value_counts()"
   ]
  },
  {
   "cell_type": "code",
   "execution_count": 7,
   "id": "33009da0-7439-4e2f-ba06-8d74d5f4d424",
   "metadata": {},
   "outputs": [],
   "source": [
    "df.dropna(subset='review', inplace=True)"
   ]
  },
  {
   "cell_type": "code",
   "execution_count": 8,
   "id": "0bd6a897-64c9-4dd0-9de3-1ca83e8ad370",
   "metadata": {},
   "outputs": [
    {
     "data": {
      "text/plain": [
       "False    557447\n",
       "Name: review, dtype: int64"
      ]
     },
     "execution_count": 8,
     "metadata": {},
     "output_type": "execute_result"
    }
   ],
   "source": [
    "df['review'].isna().value_counts()"
   ]
  },
  {
   "cell_type": "markdown",
   "id": "2e971823-01fd-4b51-992b-c416fe5d870c",
   "metadata": {},
   "source": [
    "**Drop duplicates**"
   ]
  },
  {
   "cell_type": "code",
   "execution_count": 9,
   "id": "c3ef5155-ccf6-4b16-bd9b-fd235c552ead",
   "metadata": {},
   "outputs": [
    {
     "data": {
      "text/plain": [
       "False    465791\n",
       "True      91656\n",
       "Name: review, dtype: int64"
      ]
     },
     "execution_count": 9,
     "metadata": {},
     "output_type": "execute_result"
    }
   ],
   "source": [
    "df['review'].duplicated().value_counts()"
   ]
  },
  {
   "cell_type": "code",
   "execution_count": 10,
   "id": "27b4e01b-16c0-4548-b961-ec8ae01b9cab",
   "metadata": {},
   "outputs": [],
   "source": [
    "df.drop_duplicates(subset='review', keep='first', inplace=True)"
   ]
  },
  {
   "cell_type": "code",
   "execution_count": 11,
   "id": "94abf632-5ed0-4a83-87ca-42f39ec518e1",
   "metadata": {},
   "outputs": [
    {
     "data": {
      "text/plain": [
       "False    465791\n",
       "Name: review, dtype: int64"
      ]
     },
     "execution_count": 11,
     "metadata": {},
     "output_type": "execute_result"
    }
   ],
   "source": [
    "df['review'].duplicated().value_counts()"
   ]
  },
  {
   "cell_type": "markdown",
   "id": "9a8eba03-080a-43c6-a1ca-056890012cef",
   "metadata": {},
   "source": [
    "**Convert timestamp_created to datetime**"
   ]
  },
  {
   "cell_type": "code",
   "execution_count": 12,
   "id": "2a71024a-877c-4391-9478-48f712425e44",
   "metadata": {},
   "outputs": [
    {
     "data": {
      "text/html": [
       "<div>\n",
       "<style scoped>\n",
       "    .dataframe tbody tr th:only-of-type {\n",
       "        vertical-align: middle;\n",
       "    }\n",
       "\n",
       "    .dataframe tbody tr th {\n",
       "        vertical-align: top;\n",
       "    }\n",
       "\n",
       "    .dataframe thead th {\n",
       "        text-align: right;\n",
       "    }\n",
       "</style>\n",
       "<table border=\"1\" class=\"dataframe\">\n",
       "  <thead>\n",
       "    <tr style=\"text-align: right;\">\n",
       "      <th></th>\n",
       "      <th>recommendationid</th>\n",
       "      <th>review</th>\n",
       "      <th>timestamp_created</th>\n",
       "      <th>voted_up</th>\n",
       "    </tr>\n",
       "  </thead>\n",
       "  <tbody>\n",
       "    <tr>\n",
       "      <th>0</th>\n",
       "      <td>132354840</td>\n",
       "      <td>Loe, love, LOVE this game.\\n\\nI purchased it w...</td>\n",
       "      <td>2023-02-07</td>\n",
       "      <td>True</td>\n",
       "    </tr>\n",
       "    <tr>\n",
       "      <th>1</th>\n",
       "      <td>132354525</td>\n",
       "      <td>shouldve been more</td>\n",
       "      <td>2023-02-07</td>\n",
       "      <td>False</td>\n",
       "    </tr>\n",
       "    <tr>\n",
       "      <th>2</th>\n",
       "      <td>132354176</td>\n",
       "      <td>It's fun</td>\n",
       "      <td>2023-02-07</td>\n",
       "      <td>True</td>\n",
       "    </tr>\n",
       "    <tr>\n",
       "      <th>3</th>\n",
       "      <td>132353890</td>\n",
       "      <td>full gen z game.</td>\n",
       "      <td>2023-02-07</td>\n",
       "      <td>False</td>\n",
       "    </tr>\n",
       "    <tr>\n",
       "      <th>4</th>\n",
       "      <td>132353500</td>\n",
       "      <td>it good that is all</td>\n",
       "      <td>2023-02-07</td>\n",
       "      <td>True</td>\n",
       "    </tr>\n",
       "  </tbody>\n",
       "</table>\n",
       "</div>"
      ],
      "text/plain": [
       "   recommendationid                                             review  \\\n",
       "0         132354840  Loe, love, LOVE this game.\\n\\nI purchased it w...   \n",
       "1         132354525                                 shouldve been more   \n",
       "2         132354176                                           It's fun   \n",
       "3         132353890                                   full gen z game.   \n",
       "4         132353500                                it good that is all   \n",
       "\n",
       "  timestamp_created  voted_up  \n",
       "0        2023-02-07      True  \n",
       "1        2023-02-07     False  \n",
       "2        2023-02-07      True  \n",
       "3        2023-02-07     False  \n",
       "4        2023-02-07      True  "
      ]
     },
     "execution_count": 12,
     "metadata": {},
     "output_type": "execute_result"
    }
   ],
   "source": [
    "df['timestamp_created'] = pd.to_datetime(df['timestamp_created'],unit='s')\n",
    "df['timestamp_created'] = pd.to_datetime(df['timestamp_created'].dt.date)\n",
    "df.head()"
   ]
  },
  {
   "cell_type": "markdown",
   "id": "66078b36-a727-4054-8609-557a59861f8b",
   "metadata": {
    "tags": []
   },
   "source": [
    "### 3.2 Pipeline to remove stopwords, punctuation and formatting"
   ]
  },
  {
   "cell_type": "markdown",
   "id": "43615705-bd2f-42d4-9361-2adacfefe999",
   "metadata": {},
   "source": [
    "**Remove formatting**"
   ]
  },
  {
   "cell_type": "code",
   "execution_count": 13,
   "id": "35003173-2e16-40f9-a726-fa6ecdac3c5a",
   "metadata": {},
   "outputs": [],
   "source": [
    "def remove_markdown(input_string):\n",
    "    input_string = str(input_string)\n",
    "    result = re.sub(r'\\[.*?\\]', '', input_string)\n",
    "    result = ' '.join(result.split()) #replace multiple spaces with single space\n",
    "\n",
    "    return result"
   ]
  },
  {
   "cell_type": "markdown",
   "id": "e3390b02-a812-4a08-9b78-94c585c66ddb",
   "metadata": {},
   "source": [
    "**Remove punctuations**"
   ]
  },
  {
   "cell_type": "code",
   "execution_count": 14,
   "id": "139987ad-7e62-47c6-86ee-f1e8e3c478e4",
   "metadata": {},
   "outputs": [],
   "source": [
    "def remove_puns(input_string):\n",
    "    result = [letter for letter in input_string if letter not in string.punctuation]\n",
    "    result = ''.join(result)\n",
    "    result = ' '.join(result.split()) #replace multiple spaces with single space\n",
    "    return result"
   ]
  },
  {
   "cell_type": "markdown",
   "id": "9529ddc1-c294-4d9d-8540-76e0ef553f16",
   "metadata": {},
   "source": [
    "**Remove stopwords**"
   ]
  },
  {
   "cell_type": "code",
   "execution_count": 15,
   "id": "26828e22-9249-4fc6-85bb-7b955f1642e9",
   "metadata": {
    "tags": []
   },
   "outputs": [],
   "source": [
    "# create a custom stopwords list that include missing ' like wont, theyll, ive, etc\n",
    "stopwords_default = stopwords.words('english')\n",
    "stopwords_custom = [''.join(stopword.split('\\'')) for stopword in stopwords_default] + ['theyll', 'theyd','theyre', 'woulda','wouldve','ive','imma','itll', 'youll']\n",
    "stopwords_merged = set(stopwords_default).union(set(stopwords_custom))"
   ]
  },
  {
   "cell_type": "code",
   "execution_count": 16,
   "id": "98dd606d-6533-4cc8-820d-d4fd8d80aae0",
   "metadata": {
    "scrolled": true,
    "tags": []
   },
   "outputs": [],
   "source": [
    "def remove_stopwords(input_string):\n",
    "    input_words = input_string.split(' ')\n",
    "    result = [word for word in input_words if word.lower() not in stopwords_merged] \n",
    "    result = ' '.join(result) # disable if need to return list\n",
    "    return result"
   ]
  },
  {
   "cell_type": "markdown",
   "id": "500bd385-c2bf-4ef9-98fc-0945890521ea",
   "metadata": {},
   "source": [
    "**Remove non latin character**"
   ]
  },
  {
   "cell_type": "code",
   "execution_count": 17,
   "id": "2423a7ee-f755-47b2-b50a-098d40f70ffe",
   "metadata": {},
   "outputs": [],
   "source": [
    "from nltk.tokenize import RegexpTokenizer\n",
    "def remove_non_latin(input_string):\n",
    "    tokenizer = RegexpTokenizer(r'[a-zA-Z0-9]+')\n",
    "    return tokenizer.tokenize(input_string.lower())"
   ]
  },
  {
   "cell_type": "markdown",
   "id": "46e5de0b-fccc-4bda-9783-83ce07aacc89",
   "metadata": {},
   "source": [
    "**Lemmatizing**"
   ]
  },
  {
   "cell_type": "code",
   "execution_count": 18,
   "id": "4e1123ab-de46-49b8-8d8e-dd8a4a1facd0",
   "metadata": {},
   "outputs": [],
   "source": [
    "def lemmatize(input_list):\n",
    "    lemmatizer = WordNetLemmatizer()\n",
    "    result = list(map(lemmatizer.lemmatize, input_list))\n",
    "    return result"
   ]
  },
  {
   "cell_type": "markdown",
   "id": "fc6d22b8-2b9e-4025-ac42-15ba5d3f5554",
   "metadata": {},
   "source": [
    "**Combine together**"
   ]
  },
  {
   "cell_type": "code",
   "execution_count": 24,
   "id": "b555b3ef-ceee-44f1-a550-cda931922fc9",
   "metadata": {},
   "outputs": [],
   "source": [
    "def review_cleaning(input_string):\n",
    "    result = remove_markdown(input_string)\n",
    "    result = remove_puns(result)\n",
    "    result = remove_stopwords(result)\n",
    "    result = remove_non_latin(result)\n",
    "    result = lemmatize(result)\n",
    "    result = ' '.join(result)\n",
    "    return result"
   ]
  },
  {
   "cell_type": "code",
   "execution_count": 25,
   "id": "e8d223b2-c7bc-480f-b8e8-8b803639ca73",
   "metadata": {},
   "outputs": [
    {
     "name": "stdout",
     "output_type": "stream",
     "text": [
      "CPU times: total: 48.9 s\n",
      "Wall time: 1min 8s\n"
     ]
    }
   ],
   "source": [
    "%%time\n",
    "df['review'] = df['review'].apply(review_cleaning)"
   ]
  },
  {
   "cell_type": "code",
   "execution_count": 26,
   "id": "e5ed0e8b-ecfd-4eda-bc00-cd3758135402",
   "metadata": {},
   "outputs": [
    {
     "data": {
      "text/html": [
       "<div>\n",
       "<style scoped>\n",
       "    .dataframe tbody tr th:only-of-type {\n",
       "        vertical-align: middle;\n",
       "    }\n",
       "\n",
       "    .dataframe tbody tr th {\n",
       "        vertical-align: top;\n",
       "    }\n",
       "\n",
       "    .dataframe thead th {\n",
       "        text-align: right;\n",
       "    }\n",
       "</style>\n",
       "<table border=\"1\" class=\"dataframe\">\n",
       "  <thead>\n",
       "    <tr style=\"text-align: right;\">\n",
       "      <th></th>\n",
       "      <th>recommendationid</th>\n",
       "      <th>review</th>\n",
       "      <th>timestamp_created</th>\n",
       "      <th>voted_up</th>\n",
       "    </tr>\n",
       "  </thead>\n",
       "  <tbody>\n",
       "    <tr>\n",
       "      <th>0</th>\n",
       "      <td>132354840</td>\n",
       "      <td>loe love love game purchased sale would recomm...</td>\n",
       "      <td>2023-02-07</td>\n",
       "      <td>True</td>\n",
       "    </tr>\n",
       "    <tr>\n",
       "      <th>1</th>\n",
       "      <td>132354525</td>\n",
       "      <td></td>\n",
       "      <td>2023-02-07</td>\n",
       "      <td>False</td>\n",
       "    </tr>\n",
       "    <tr>\n",
       "      <th>2</th>\n",
       "      <td>132354176</td>\n",
       "      <td>fun</td>\n",
       "      <td>2023-02-07</td>\n",
       "      <td>True</td>\n",
       "    </tr>\n",
       "    <tr>\n",
       "      <th>3</th>\n",
       "      <td>132353890</td>\n",
       "      <td>full gen z game</td>\n",
       "      <td>2023-02-07</td>\n",
       "      <td>False</td>\n",
       "    </tr>\n",
       "    <tr>\n",
       "      <th>4</th>\n",
       "      <td>132353500</td>\n",
       "      <td>good</td>\n",
       "      <td>2023-02-07</td>\n",
       "      <td>True</td>\n",
       "    </tr>\n",
       "    <tr>\n",
       "      <th>5</th>\n",
       "      <td>132352818</td>\n",
       "      <td>captivating like movie</td>\n",
       "      <td>2023-02-07</td>\n",
       "      <td>True</td>\n",
       "    </tr>\n",
       "    <tr>\n",
       "      <th>6</th>\n",
       "      <td>132352029</td>\n",
       "      <td>adorei timo jogo uma pena que n o teve um lan ...</td>\n",
       "      <td>2023-02-07</td>\n",
       "      <td>True</td>\n",
       "    </tr>\n",
       "    <tr>\n",
       "      <th>7</th>\n",
       "      <td>132351754</td>\n",
       "      <td>fun pretty good</td>\n",
       "      <td>2023-02-07</td>\n",
       "      <td>True</td>\n",
       "    </tr>\n",
       "    <tr>\n",
       "      <th>8</th>\n",
       "      <td>132351266</td>\n",
       "      <td>got flaw game week played 40 hour case gta 5 g...</td>\n",
       "      <td>2023-02-07</td>\n",
       "      <td>True</td>\n",
       "    </tr>\n",
       "    <tr>\n",
       "      <th>9</th>\n",
       "      <td>132349876</td>\n",
       "      <td>favourite part keanu reef said cybering time c...</td>\n",
       "      <td>2023-02-07</td>\n",
       "      <td>True</td>\n",
       "    </tr>\n",
       "  </tbody>\n",
       "</table>\n",
       "</div>"
      ],
      "text/plain": [
       "   recommendationid                                             review  \\\n",
       "0         132354840  loe love love game purchased sale would recomm...   \n",
       "1         132354525                                                      \n",
       "2         132354176                                                fun   \n",
       "3         132353890                                    full gen z game   \n",
       "4         132353500                                               good   \n",
       "5         132352818                             captivating like movie   \n",
       "6         132352029  adorei timo jogo uma pena que n o teve um lan ...   \n",
       "7         132351754                                    fun pretty good   \n",
       "8         132351266  got flaw game week played 40 hour case gta 5 g...   \n",
       "9         132349876  favourite part keanu reef said cybering time c...   \n",
       "\n",
       "  timestamp_created  voted_up  \n",
       "0        2023-02-07      True  \n",
       "1        2023-02-07     False  \n",
       "2        2023-02-07      True  \n",
       "3        2023-02-07     False  \n",
       "4        2023-02-07      True  \n",
       "5        2023-02-07      True  \n",
       "6        2023-02-07      True  \n",
       "7        2023-02-07      True  \n",
       "8        2023-02-07      True  \n",
       "9        2023-02-07      True  "
      ]
     },
     "execution_count": 26,
     "metadata": {},
     "output_type": "execute_result"
    }
   ],
   "source": [
    "df.head(10)"
   ]
  },
  {
   "cell_type": "code",
   "execution_count": 30,
   "id": "df0131cf-db34-40ab-bd88-8d4b56ffb8b1",
   "metadata": {},
   "outputs": [],
   "source": [
    "df.review[df.review.apply(len)==0] = np.NaN"
   ]
  },
  {
   "cell_type": "code",
   "execution_count": 31,
   "id": "73f99f0e-1f43-4ead-a983-ebacd79571a2",
   "metadata": {},
   "outputs": [
    {
     "data": {
      "text/plain": [
       "3209"
      ]
     },
     "execution_count": 31,
     "metadata": {},
     "output_type": "execute_result"
    }
   ],
   "source": [
    "df.review.isna().sum()"
   ]
  },
  {
   "cell_type": "code",
   "execution_count": 33,
   "id": "8ef0db4f-c0fe-4f91-aed9-5ce4340db5c0",
   "metadata": {},
   "outputs": [],
   "source": [
    "df.review.dropna(inplace=True)"
   ]
  },
  {
   "cell_type": "markdown",
   "id": "eb7ee911-b8d3-4b94-b4b6-0660c43c7295",
   "metadata": {},
   "source": [
    "**Export**"
   ]
  },
  {
   "cell_type": "code",
   "execution_count": 34,
   "id": "ed7df8da-0bef-42b4-a45d-8c5802f282f8",
   "metadata": {},
   "outputs": [],
   "source": [
    "df.to_csv('reviews_cleaned.csv', index=False)"
   ]
  }
 ],
 "metadata": {
  "kernelspec": {
   "display_name": "Python 3 (ipykernel)",
   "language": "python",
   "name": "python3"
  },
  "language_info": {
   "codemirror_mode": {
    "name": "ipython",
    "version": 3
   },
   "file_extension": ".py",
   "mimetype": "text/x-python",
   "name": "python",
   "nbconvert_exporter": "python",
   "pygments_lexer": "ipython3",
   "version": "3.9.15"
  }
 },
 "nbformat": 4,
 "nbformat_minor": 5
}
